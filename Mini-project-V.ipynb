{
 "cells": [
  {
   "cell_type": "markdown",
   "id": "da72c8a8-a5fd-4ca3-89ed-ddafd8d39352",
   "metadata": {},
   "source": [
    "# Identifying Duplicate Questions\n",
    "#### Over 100 million people visit Quora every month, so it's no surprise that many people ask similar (or the same) questions. Various questions with the same intent can cause people to spend extra time searching for the best answer to their question, and results in members answering multiple versions of the same question. Quora uses random forest to identify duplicated questions to provide a better experience to active seekers and writers, and offer more value to both of these groups in the long term. Follow the steps outlined below to build the appropriate classifier model.\n",
    "\n",
    "### Steps:\n",
    "\n",
    "1. Download data\n",
    "2. Exploration\n",
    "3. Cleaning\n",
    "4. Feature Engineering\n",
    "5. Modeling\n",
    "\n",
    "#### By the end of this project you should have a presentation that describes the model you built and its performance."
   ]
  },
  {
   "cell_type": "markdown",
   "id": "65281d5d-859e-4824-be91-0de60ac4fde7",
   "metadata": {},
   "source": [
    "## 1. Download the Data"
   ]
  },
  {
   "cell_type": "code",
   "execution_count": 1,
   "id": "76e19683-3311-4269-80bb-264533528850",
   "metadata": {},
   "outputs": [],
   "source": [
    "import pandas as pd\n",
    "import numpy as np\n",
    "import matplotlib.pyplot as plt"
   ]
  },
  {
   "cell_type": "code",
   "execution_count": 2,
   "id": "9928af7d-8395-4279-9f77-6a9d0685a826",
   "metadata": {},
   "outputs": [
    {
     "name": "stderr",
     "output_type": "stream",
     "text": [
      "2022-11-18 17:14:50.937849: I tensorflow/core/platform/cpu_feature_guard.cc:193] This TensorFlow binary is optimized with oneAPI Deep Neural Network Library (oneDNN) to use the following CPU instructions in performance-critical operations:  AVX2 FMA\n",
      "To enable them in other operations, rebuild TensorFlow with the appropriate compiler flags.\n"
     ]
    }
   ],
   "source": [
    "import string\n",
    "import re\n",
    "import nltk\n",
    "import spacy\n",
    "import gensim"
   ]
  },
  {
   "cell_type": "code",
   "execution_count": 3,
   "id": "6d248804-2159-4ce9-ade0-ce6bbc803074",
   "metadata": {},
   "outputs": [],
   "source": [
    "from nltk.tokenize import word_tokenize\n",
    "from nltk import sent_tokenize\n",
    "from nltk.corpus import stopwords\n",
    "from nltk.corpus import wordnet as wn\n",
    "from nltk.stem import WordNetLemmatizer\n",
    "from nltk.stem.porter import PorterStemmer"
   ]
  },
  {
   "cell_type": "code",
   "execution_count": 104,
   "id": "a2f2891a-64f3-4847-b32c-af7d5528c156",
   "metadata": {},
   "outputs": [],
   "source": [
    "from sklearn.model_selection import train_test_split\n",
    "from sklearn.feature_extraction.text import TfidfVectorizer\n",
    "from sklearn.feature_extraction.text import CountVectorizer\n",
    "from gensim.models import Word2Vec\n",
    "from collections import Counter\n",
    "from sklearn.linear_model import LogisticRegression\n",
    "from sklearn.ensemble import GradientBoostingClassifier\n",
    "from sklearn.naive_bayes import BernoulliNB\n",
    "from sklearn import naive_bayes\n",
    "from sklearn.metrics import roc_auc_score\n",
    "from sklearn.metrics.pairwise import cosine_similarity\n",
    "import xgboost as xgb"
   ]
  },
  {
   "cell_type": "code",
   "execution_count": 5,
   "id": "b4332692-4583-4f0f-8d91-9cb3ac81ba3e",
   "metadata": {},
   "outputs": [],
   "source": [
    "from keras.models import Sequential\n",
    "from keras.layers import Dense\n",
    "from keras.layers import LSTM\n",
    "from keras.layers import Dropout"
   ]
  },
  {
   "cell_type": "code",
   "execution_count": 6,
   "id": "e7087bfd-4cb8-4aa8-a83e-08362170535b",
   "metadata": {},
   "outputs": [],
   "source": [
    "df=pd.read_csv('train.csv')"
   ]
  },
  {
   "cell_type": "markdown",
   "id": "eaef3bf1-85bf-45a1-9935-dd7192b315f0",
   "metadata": {},
   "source": [
    "## 2. Exploration"
   ]
  },
  {
   "cell_type": "code",
   "execution_count": 7,
   "id": "ebbfb0a5-3e76-4c89-90a0-3dc0ae015628",
   "metadata": {},
   "outputs": [
    {
     "data": {
      "text/html": [
       "<div>\n",
       "<style scoped>\n",
       "    .dataframe tbody tr th:only-of-type {\n",
       "        vertical-align: middle;\n",
       "    }\n",
       "\n",
       "    .dataframe tbody tr th {\n",
       "        vertical-align: top;\n",
       "    }\n",
       "\n",
       "    .dataframe thead th {\n",
       "        text-align: right;\n",
       "    }\n",
       "</style>\n",
       "<table border=\"1\" class=\"dataframe\">\n",
       "  <thead>\n",
       "    <tr style=\"text-align: right;\">\n",
       "      <th></th>\n",
       "      <th>id</th>\n",
       "      <th>qid1</th>\n",
       "      <th>qid2</th>\n",
       "      <th>question1</th>\n",
       "      <th>question2</th>\n",
       "      <th>is_duplicate</th>\n",
       "    </tr>\n",
       "  </thead>\n",
       "  <tbody>\n",
       "    <tr>\n",
       "      <th>0</th>\n",
       "      <td>0</td>\n",
       "      <td>1</td>\n",
       "      <td>2</td>\n",
       "      <td>What is the step by step guide to invest in sh...</td>\n",
       "      <td>What is the step by step guide to invest in sh...</td>\n",
       "      <td>0</td>\n",
       "    </tr>\n",
       "    <tr>\n",
       "      <th>1</th>\n",
       "      <td>1</td>\n",
       "      <td>3</td>\n",
       "      <td>4</td>\n",
       "      <td>What is the story of Kohinoor (Koh-i-Noor) Dia...</td>\n",
       "      <td>What would happen if the Indian government sto...</td>\n",
       "      <td>0</td>\n",
       "    </tr>\n",
       "    <tr>\n",
       "      <th>2</th>\n",
       "      <td>2</td>\n",
       "      <td>5</td>\n",
       "      <td>6</td>\n",
       "      <td>How can I increase the speed of my internet co...</td>\n",
       "      <td>How can Internet speed be increased by hacking...</td>\n",
       "      <td>0</td>\n",
       "    </tr>\n",
       "    <tr>\n",
       "      <th>3</th>\n",
       "      <td>3</td>\n",
       "      <td>7</td>\n",
       "      <td>8</td>\n",
       "      <td>Why am I mentally very lonely? How can I solve...</td>\n",
       "      <td>Find the remainder when [math]23^{24}[/math] i...</td>\n",
       "      <td>0</td>\n",
       "    </tr>\n",
       "    <tr>\n",
       "      <th>4</th>\n",
       "      <td>4</td>\n",
       "      <td>9</td>\n",
       "      <td>10</td>\n",
       "      <td>Which one dissolve in water quikly sugar, salt...</td>\n",
       "      <td>Which fish would survive in salt water?</td>\n",
       "      <td>0</td>\n",
       "    </tr>\n",
       "    <tr>\n",
       "      <th>5</th>\n",
       "      <td>5</td>\n",
       "      <td>11</td>\n",
       "      <td>12</td>\n",
       "      <td>Astrology: I am a Capricorn Sun Cap moon and c...</td>\n",
       "      <td>I'm a triple Capricorn (Sun, Moon and ascendan...</td>\n",
       "      <td>1</td>\n",
       "    </tr>\n",
       "    <tr>\n",
       "      <th>6</th>\n",
       "      <td>6</td>\n",
       "      <td>13</td>\n",
       "      <td>14</td>\n",
       "      <td>Should I buy tiago?</td>\n",
       "      <td>What keeps childern active and far from phone ...</td>\n",
       "      <td>0</td>\n",
       "    </tr>\n",
       "    <tr>\n",
       "      <th>7</th>\n",
       "      <td>7</td>\n",
       "      <td>15</td>\n",
       "      <td>16</td>\n",
       "      <td>How can I be a good geologist?</td>\n",
       "      <td>What should I do to be a great geologist?</td>\n",
       "      <td>1</td>\n",
       "    </tr>\n",
       "    <tr>\n",
       "      <th>8</th>\n",
       "      <td>8</td>\n",
       "      <td>17</td>\n",
       "      <td>18</td>\n",
       "      <td>When do you use シ instead of し?</td>\n",
       "      <td>When do you use \"&amp;\" instead of \"and\"?</td>\n",
       "      <td>0</td>\n",
       "    </tr>\n",
       "    <tr>\n",
       "      <th>9</th>\n",
       "      <td>9</td>\n",
       "      <td>19</td>\n",
       "      <td>20</td>\n",
       "      <td>Motorola (company): Can I hack my Charter Moto...</td>\n",
       "      <td>How do I hack Motorola DCX3400 for free internet?</td>\n",
       "      <td>0</td>\n",
       "    </tr>\n",
       "  </tbody>\n",
       "</table>\n",
       "</div>"
      ],
      "text/plain": [
       "   id  qid1  qid2                                          question1  \\\n",
       "0   0     1     2  What is the step by step guide to invest in sh...   \n",
       "1   1     3     4  What is the story of Kohinoor (Koh-i-Noor) Dia...   \n",
       "2   2     5     6  How can I increase the speed of my internet co...   \n",
       "3   3     7     8  Why am I mentally very lonely? How can I solve...   \n",
       "4   4     9    10  Which one dissolve in water quikly sugar, salt...   \n",
       "5   5    11    12  Astrology: I am a Capricorn Sun Cap moon and c...   \n",
       "6   6    13    14                                Should I buy tiago?   \n",
       "7   7    15    16                     How can I be a good geologist?   \n",
       "8   8    17    18                    When do you use シ instead of し?   \n",
       "9   9    19    20  Motorola (company): Can I hack my Charter Moto...   \n",
       "\n",
       "                                           question2  is_duplicate  \n",
       "0  What is the step by step guide to invest in sh...             0  \n",
       "1  What would happen if the Indian government sto...             0  \n",
       "2  How can Internet speed be increased by hacking...             0  \n",
       "3  Find the remainder when [math]23^{24}[/math] i...             0  \n",
       "4            Which fish would survive in salt water?             0  \n",
       "5  I'm a triple Capricorn (Sun, Moon and ascendan...             1  \n",
       "6  What keeps childern active and far from phone ...             0  \n",
       "7          What should I do to be a great geologist?             1  \n",
       "8              When do you use \"&\" instead of \"and\"?             0  \n",
       "9  How do I hack Motorola DCX3400 for free internet?             0  "
      ]
     },
     "execution_count": 7,
     "metadata": {},
     "output_type": "execute_result"
    }
   ],
   "source": [
    "df.head(10)"
   ]
  },
  {
   "cell_type": "code",
   "execution_count": 8,
   "id": "57857c7c-2013-4ccd-a9d9-3e02ee01a33b",
   "metadata": {},
   "outputs": [
    {
     "data": {
      "text/plain": [
       "id              0\n",
       "qid1            0\n",
       "qid2            0\n",
       "question1       1\n",
       "question2       2\n",
       "is_duplicate    0\n",
       "dtype: int64"
      ]
     },
     "execution_count": 8,
     "metadata": {},
     "output_type": "execute_result"
    }
   ],
   "source": [
    "# Check for missing values\n",
    "\n",
    "df.isnull().sum()"
   ]
  },
  {
   "cell_type": "code",
   "execution_count": 9,
   "id": "c024b970-c3c6-44e3-a8d0-f10c62399d04",
   "metadata": {},
   "outputs": [
    {
     "data": {
      "text/plain": [
       "(404290, 6)"
      ]
     },
     "execution_count": 9,
     "metadata": {},
     "output_type": "execute_result"
    }
   ],
   "source": [
    "# Check shape of dataframe\n",
    "\n",
    "df.shape"
   ]
  },
  {
   "cell_type": "code",
   "execution_count": 10,
   "id": "81d4be48-d137-4a49-a7ec-ca83f3033a70",
   "metadata": {},
   "outputs": [
    {
     "data": {
      "text/plain": [
       "0    255027\n",
       "1    149263\n",
       "Name: is_duplicate, dtype: int64"
      ]
     },
     "execution_count": 10,
     "metadata": {},
     "output_type": "execute_result"
    }
   ],
   "source": [
    "df['is_duplicate'].value_counts()"
   ]
  },
  {
   "cell_type": "markdown",
   "id": "014362bb-e6d9-47ea-bbb4-3c562ccbd273",
   "metadata": {},
   "source": [
    "## 3. Cleaning"
   ]
  },
  {
   "cell_type": "code",
   "execution_count": 11,
   "id": "464c33b8-1bc6-4008-a1c0-bc2498827e7e",
   "metadata": {},
   "outputs": [],
   "source": [
    "# Drop null value rows as they are an insignificant portion of the total data\n",
    "\n",
    "df = df.dropna()"
   ]
  },
  {
   "cell_type": "code",
   "execution_count": 12,
   "id": "0eb4b754-b841-4737-9e81-fdb5b8b42619",
   "metadata": {},
   "outputs": [
    {
     "data": {
      "text/html": [
       "<div>\n",
       "<style scoped>\n",
       "    .dataframe tbody tr th:only-of-type {\n",
       "        vertical-align: middle;\n",
       "    }\n",
       "\n",
       "    .dataframe tbody tr th {\n",
       "        vertical-align: top;\n",
       "    }\n",
       "\n",
       "    .dataframe thead th {\n",
       "        text-align: right;\n",
       "    }\n",
       "</style>\n",
       "<table border=\"1\" class=\"dataframe\">\n",
       "  <thead>\n",
       "    <tr style=\"text-align: right;\">\n",
       "      <th></th>\n",
       "      <th>id</th>\n",
       "      <th>qid1</th>\n",
       "      <th>qid2</th>\n",
       "    </tr>\n",
       "  </thead>\n",
       "  <tbody>\n",
       "    <tr>\n",
       "      <th>20000</th>\n",
       "      <td>20000</td>\n",
       "      <td>37768</td>\n",
       "      <td>37769</td>\n",
       "    </tr>\n",
       "    <tr>\n",
       "      <th>20001</th>\n",
       "      <td>20001</td>\n",
       "      <td>37770</td>\n",
       "      <td>37771</td>\n",
       "    </tr>\n",
       "    <tr>\n",
       "      <th>20002</th>\n",
       "      <td>20002</td>\n",
       "      <td>8848</td>\n",
       "      <td>37772</td>\n",
       "    </tr>\n",
       "    <tr>\n",
       "      <th>20003</th>\n",
       "      <td>20003</td>\n",
       "      <td>37773</td>\n",
       "      <td>37774</td>\n",
       "    </tr>\n",
       "    <tr>\n",
       "      <th>20004</th>\n",
       "      <td>20004</td>\n",
       "      <td>37775</td>\n",
       "      <td>37776</td>\n",
       "    </tr>\n",
       "    <tr>\n",
       "      <th>20005</th>\n",
       "      <td>20005</td>\n",
       "      <td>37777</td>\n",
       "      <td>37778</td>\n",
       "    </tr>\n",
       "    <tr>\n",
       "      <th>20006</th>\n",
       "      <td>20006</td>\n",
       "      <td>37779</td>\n",
       "      <td>37780</td>\n",
       "    </tr>\n",
       "    <tr>\n",
       "      <th>20007</th>\n",
       "      <td>20007</td>\n",
       "      <td>37781</td>\n",
       "      <td>37782</td>\n",
       "    </tr>\n",
       "    <tr>\n",
       "      <th>20008</th>\n",
       "      <td>20008</td>\n",
       "      <td>37783</td>\n",
       "      <td>37784</td>\n",
       "    </tr>\n",
       "    <tr>\n",
       "      <th>20009</th>\n",
       "      <td>20009</td>\n",
       "      <td>37785</td>\n",
       "      <td>37786</td>\n",
       "    </tr>\n",
       "    <tr>\n",
       "      <th>20010</th>\n",
       "      <td>20010</td>\n",
       "      <td>37787</td>\n",
       "      <td>37788</td>\n",
       "    </tr>\n",
       "    <tr>\n",
       "      <th>20011</th>\n",
       "      <td>20011</td>\n",
       "      <td>37789</td>\n",
       "      <td>37790</td>\n",
       "    </tr>\n",
       "    <tr>\n",
       "      <th>20012</th>\n",
       "      <td>20012</td>\n",
       "      <td>37791</td>\n",
       "      <td>37792</td>\n",
       "    </tr>\n",
       "    <tr>\n",
       "      <th>20013</th>\n",
       "      <td>20013</td>\n",
       "      <td>37793</td>\n",
       "      <td>37794</td>\n",
       "    </tr>\n",
       "    <tr>\n",
       "      <th>20014</th>\n",
       "      <td>20014</td>\n",
       "      <td>37795</td>\n",
       "      <td>37796</td>\n",
       "    </tr>\n",
       "    <tr>\n",
       "      <th>20015</th>\n",
       "      <td>20015</td>\n",
       "      <td>37797</td>\n",
       "      <td>37798</td>\n",
       "    </tr>\n",
       "    <tr>\n",
       "      <th>20016</th>\n",
       "      <td>20016</td>\n",
       "      <td>37799</td>\n",
       "      <td>37800</td>\n",
       "    </tr>\n",
       "    <tr>\n",
       "      <th>20017</th>\n",
       "      <td>20017</td>\n",
       "      <td>37682</td>\n",
       "      <td>20587</td>\n",
       "    </tr>\n",
       "    <tr>\n",
       "      <th>20018</th>\n",
       "      <td>20018</td>\n",
       "      <td>37801</td>\n",
       "      <td>37802</td>\n",
       "    </tr>\n",
       "    <tr>\n",
       "      <th>20019</th>\n",
       "      <td>20019</td>\n",
       "      <td>13069</td>\n",
       "      <td>37803</td>\n",
       "    </tr>\n",
       "  </tbody>\n",
       "</table>\n",
       "</div>"
      ],
      "text/plain": [
       "          id   qid1   qid2\n",
       "20000  20000  37768  37769\n",
       "20001  20001  37770  37771\n",
       "20002  20002   8848  37772\n",
       "20003  20003  37773  37774\n",
       "20004  20004  37775  37776\n",
       "20005  20005  37777  37778\n",
       "20006  20006  37779  37780\n",
       "20007  20007  37781  37782\n",
       "20008  20008  37783  37784\n",
       "20009  20009  37785  37786\n",
       "20010  20010  37787  37788\n",
       "20011  20011  37789  37790\n",
       "20012  20012  37791  37792\n",
       "20013  20013  37793  37794\n",
       "20014  20014  37795  37796\n",
       "20015  20015  37797  37798\n",
       "20016  20016  37799  37800\n",
       "20017  20017  37682  20587\n",
       "20018  20018  37801  37802\n",
       "20019  20019  13069  37803"
      ]
     },
     "execution_count": 12,
     "metadata": {},
     "output_type": "execute_result"
    }
   ],
   "source": [
    "# Show random set of qid1 and qid2 to see if they can be dropped\n",
    "\n",
    "df[['id', 'qid1', 'qid2']][20000:20020]"
   ]
  },
  {
   "cell_type": "code",
   "execution_count": 13,
   "id": "b1e9a129-c071-4b14-9012-cf38c3f8a31e",
   "metadata": {},
   "outputs": [],
   "source": [
    "# Split data from target variable\n",
    "\n",
    "x_df=df[['id', 'question1', 'question2']]\n",
    "y_df=df['is_duplicate']"
   ]
  },
  {
   "cell_type": "code",
   "execution_count": 14,
   "id": "7f060a84-e966-4898-885a-4a7991b507d5",
   "metadata": {},
   "outputs": [],
   "source": [
    "# train test split\n",
    "\n",
    "x_train, x_test, y_train, y_test = train_test_split(\n",
    "    x_df, y_df, test_size=0.3, random_state=1000)"
   ]
  },
  {
   "cell_type": "code",
   "execution_count": 15,
   "id": "9451d637-0f46-4b63-abd5-1612125b6700",
   "metadata": {},
   "outputs": [],
   "source": [
    "import gensim\n",
    "import gensim.corpora as corpora\n",
    "from gensim.utils import simple_preprocess\n",
    "from gensim.models import CoherenceModel"
   ]
  },
  {
   "cell_type": "code",
   "execution_count": 16,
   "id": "22b7eab6-dcf5-4b13-846c-448a78c9a034",
   "metadata": {},
   "outputs": [],
   "source": [
    "def preprocess_all(text):\n",
    "    \n",
    "    # Remove Punctuation\n",
    "    text = \"\".join([char for char in text if char not in string.punctuation])\n",
    "    \n",
    "    tokens = text.split()\n",
    "    \n",
    "    ENGstopwords = stopwords.words('english')\n",
    "    text = [word for word in tokens if word not in ENGstopwords]\n",
    "    \n",
    "    porter = PorterStemmer()\n",
    "    stemmed_text = [porter.stem(word) for word in text]\n",
    "    \n",
    "    wnl = WordNetLemmatizer()\n",
    "    lemma_text = [wnl.lemmatize(word) for word in stemmed_text]\n",
    "    \n",
    "    return lemma_text"
   ]
  },
  {
   "cell_type": "code",
   "execution_count": 17,
   "id": "96ddeac2-c458-4ba2-bbb0-f94f5282ebd3",
   "metadata": {},
   "outputs": [
    {
     "data": {
      "text/html": [
       "<div>\n",
       "<style scoped>\n",
       "    .dataframe tbody tr th:only-of-type {\n",
       "        vertical-align: middle;\n",
       "    }\n",
       "\n",
       "    .dataframe tbody tr th {\n",
       "        vertical-align: top;\n",
       "    }\n",
       "\n",
       "    .dataframe thead th {\n",
       "        text-align: right;\n",
       "    }\n",
       "</style>\n",
       "<table border=\"1\" class=\"dataframe\">\n",
       "  <thead>\n",
       "    <tr style=\"text-align: right;\">\n",
       "      <th></th>\n",
       "      <th>id</th>\n",
       "      <th>question1</th>\n",
       "      <th>question2</th>\n",
       "    </tr>\n",
       "  </thead>\n",
       "  <tbody>\n",
       "    <tr>\n",
       "      <th>271488</th>\n",
       "      <td>271488</td>\n",
       "      <td>What do pilots carry in their flight bags?</td>\n",
       "      <td>What are the things an airline pilot carry in ...</td>\n",
       "    </tr>\n",
       "    <tr>\n",
       "      <th>659</th>\n",
       "      <td>659</td>\n",
       "      <td>How long can raw and cooked sausage last refri...</td>\n",
       "      <td>How long does onigiri last if left refrigerate...</td>\n",
       "    </tr>\n",
       "    <tr>\n",
       "      <th>319232</th>\n",
       "      <td>319232</td>\n",
       "      <td>What do I need for video streaming?</td>\n",
       "      <td>What, from an infrastructure point of view, do...</td>\n",
       "    </tr>\n",
       "    <tr>\n",
       "      <th>352892</th>\n",
       "      <td>352892</td>\n",
       "      <td>What are the benefits you got from reading?</td>\n",
       "      <td>What are some benefits of reading?</td>\n",
       "    </tr>\n",
       "    <tr>\n",
       "      <th>147381</th>\n",
       "      <td>147381</td>\n",
       "      <td>I am drunk, what should I do?</td>\n",
       "      <td>How do I know that I am drunk?</td>\n",
       "    </tr>\n",
       "  </tbody>\n",
       "</table>\n",
       "</div>"
      ],
      "text/plain": [
       "            id                                          question1  \\\n",
       "271488  271488         What do pilots carry in their flight bags?   \n",
       "659        659  How long can raw and cooked sausage last refri...   \n",
       "319232  319232                What do I need for video streaming?   \n",
       "352892  352892        What are the benefits you got from reading?   \n",
       "147381  147381                      I am drunk, what should I do?   \n",
       "\n",
       "                                                question2  \n",
       "271488  What are the things an airline pilot carry in ...  \n",
       "659     How long does onigiri last if left refrigerate...  \n",
       "319232  What, from an infrastructure point of view, do...  \n",
       "352892                 What are some benefits of reading?  \n",
       "147381                     How do I know that I am drunk?  "
      ]
     },
     "execution_count": 17,
     "metadata": {},
     "output_type": "execute_result"
    }
   ],
   "source": [
    "x_train.head()"
   ]
  },
  {
   "cell_type": "code",
   "execution_count": 18,
   "id": "68067641-7561-4314-ba13-822d975e84ec",
   "metadata": {},
   "outputs": [],
   "source": [
    "# Remove 'i' or 'I' as corpus specific stopword\n",
    "\n",
    "x_train['question1']=x_train['question1'].str.replace(' I ', ' ')\n",
    "x_train['question1']=x_train['question1'].str.replace('I ', '')\n",
    "x_train['question1']=x_train['question1'].str.replace('i ', '')\n",
    "x_train['question1']=x_train['question1'].str.replace(' i ', ' ')\n",
    "x_train['question2']=x_train['question2'].str.replace(' I ', ' ')\n",
    "x_train['question2']=x_train['question2'].str.replace('I ', '')\n",
    "x_train['question2']=x_train['question2'].str.replace('i ', '')\n",
    "x_train['question2']=x_train['question2'].str.replace(' i ', ' ')"
   ]
  },
  {
   "cell_type": "code",
   "execution_count": 19,
   "id": "d8203eaf-6d99-4be0-936b-b51666482b2a",
   "metadata": {},
   "outputs": [],
   "source": [
    "# Remove 'what', 'What', 'how' and 'How' as corpus specific stopwords\n",
    "\n",
    "x_train['question1']=x_train['question1'].str.replace('what', '')"
   ]
  },
  {
   "cell_type": "code",
   "execution_count": 20,
   "id": "05472439-401b-497a-95be-3409f1d93822",
   "metadata": {},
   "outputs": [],
   "source": [
    "x_train['question1']=x_train['question1'].str.replace('What', '')"
   ]
  },
  {
   "cell_type": "code",
   "execution_count": 21,
   "id": "bbdc58a5-8e61-41f5-97a2-b6626faa75c0",
   "metadata": {},
   "outputs": [],
   "source": [
    "x_train['question2']=x_train['question2'].str.replace('what', '')\n",
    "x_train['question2']=x_train['question2'].str.replace('What', '')\n",
    "x_train['question1']=x_train['question1'].str.replace('how', '')\n",
    "x_train['question1']=x_train['question1'].str.replace('How', '')\n",
    "x_train['question2']=x_train['question2'].str.replace('how', '')\n",
    "x_train['question2']=x_train['question2'].str.replace('How', '')"
   ]
  },
  {
   "cell_type": "code",
   "execution_count": 22,
   "id": "b0d3fd65-bd53-4cbe-8ee7-40c8ee794f0f",
   "metadata": {},
   "outputs": [],
   "source": [
    "x_test['question1']=x_test['question1'].str.replace(' I ', ' ')\n",
    "x_test['question1']=x_test['question1'].str.replace('I ', '')\n",
    "x_test['question1']=x_test['question1'].str.replace('i ', '')\n",
    "x_test['question1']=x_test['question1'].str.replace(' i ', ' ')\n",
    "x_test['question2']=x_test['question2'].str.replace(' I ', ' ')\n",
    "x_test['question2']=x_test['question2'].str.replace('I ', '')\n",
    "x_test['question2']=x_test['question2'].str.replace('i ', '')\n",
    "x_test['question2']=x_test['question2'].str.replace(' i ', ' ')\n",
    "x_test['question1']=x_test['question1'].str.replace('what', '')\n",
    "x_test['question1']=x_test['question1'].str.replace('What', '')\n",
    "x_test['question2']=x_test['question2'].str.replace('what', '')\n",
    "x_test['question2']=x_test['question2'].str.replace('What', '')\n",
    "x_test['question1']=x_test['question1'].str.replace('how', '')\n",
    "x_test['question1']=x_test['question1'].str.replace('How', '')\n",
    "x_test['question2']=x_test['question2'].str.replace('how', '')\n",
    "x_test['question2']=x_test['question2'].str.replace('How', '')"
   ]
  },
  {
   "cell_type": "code",
   "execution_count": 23,
   "id": "5d9fae35-15d8-4269-9211-9cb456c04365",
   "metadata": {},
   "outputs": [
    {
     "data": {
      "text/html": [
       "<div>\n",
       "<style scoped>\n",
       "    .dataframe tbody tr th:only-of-type {\n",
       "        vertical-align: middle;\n",
       "    }\n",
       "\n",
       "    .dataframe tbody tr th {\n",
       "        vertical-align: top;\n",
       "    }\n",
       "\n",
       "    .dataframe thead th {\n",
       "        text-align: right;\n",
       "    }\n",
       "</style>\n",
       "<table border=\"1\" class=\"dataframe\">\n",
       "  <thead>\n",
       "    <tr style=\"text-align: right;\">\n",
       "      <th></th>\n",
       "      <th>id</th>\n",
       "      <th>question1</th>\n",
       "      <th>question2</th>\n",
       "    </tr>\n",
       "  </thead>\n",
       "  <tbody>\n",
       "    <tr>\n",
       "      <th>271488</th>\n",
       "      <td>271488</td>\n",
       "      <td>do pilots carry in their flight bags?</td>\n",
       "      <td>are the things an airline pilot carry in thei...</td>\n",
       "    </tr>\n",
       "    <tr>\n",
       "      <th>659</th>\n",
       "      <td>659</td>\n",
       "      <td>long can raw and cooked sausage last refriger...</td>\n",
       "      <td>long does onigirlast if left refrigerated?  c...</td>\n",
       "    </tr>\n",
       "    <tr>\n",
       "      <th>319232</th>\n",
       "      <td>319232</td>\n",
       "      <td>do need for video streaming?</td>\n",
       "      <td>, from an infrastructure point of view, do nee...</td>\n",
       "    </tr>\n",
       "    <tr>\n",
       "      <th>352892</th>\n",
       "      <td>352892</td>\n",
       "      <td>are the benefits you got from reading?</td>\n",
       "      <td>are some benefits of reading?</td>\n",
       "    </tr>\n",
       "    <tr>\n",
       "      <th>147381</th>\n",
       "      <td>147381</td>\n",
       "      <td>am drunk,  should do?</td>\n",
       "      <td>do know that am drunk?</td>\n",
       "    </tr>\n",
       "  </tbody>\n",
       "</table>\n",
       "</div>"
      ],
      "text/plain": [
       "            id                                          question1  \\\n",
       "271488  271488              do pilots carry in their flight bags?   \n",
       "659        659   long can raw and cooked sausage last refriger...   \n",
       "319232  319232                       do need for video streaming?   \n",
       "352892  352892             are the benefits you got from reading?   \n",
       "147381  147381                              am drunk,  should do?   \n",
       "\n",
       "                                                question2  \n",
       "271488   are the things an airline pilot carry in thei...  \n",
       "659      long does onigirlast if left refrigerated?  c...  \n",
       "319232  , from an infrastructure point of view, do nee...  \n",
       "352892                      are some benefits of reading?  \n",
       "147381                             do know that am drunk?  "
      ]
     },
     "execution_count": 23,
     "metadata": {},
     "output_type": "execute_result"
    }
   ],
   "source": [
    "x_train.head()"
   ]
  },
  {
   "cell_type": "code",
   "execution_count": 24,
   "id": "53df9228-f3dd-4fb5-920e-44a70cd43351",
   "metadata": {},
   "outputs": [],
   "source": [
    "x_train['q1_clean'] = x_train['question1'].apply(lambda x: preprocess_all(x))\n",
    "x_train['q2_clean'] = x_train['question2'].apply(lambda x: preprocess_all(x))"
   ]
  },
  {
   "cell_type": "code",
   "execution_count": 25,
   "id": "60d1e873-86b0-4568-9f53-0852dfa08472",
   "metadata": {},
   "outputs": [],
   "source": [
    "x_test['q1_clean'] = x_test['question1'].apply(lambda x: preprocess_all(x))\n",
    "x_test['q2_clean'] = x_test['question2'].apply(lambda x: preprocess_all(x))"
   ]
  },
  {
   "cell_type": "code",
   "execution_count": 26,
   "id": "46f12f3d-4422-4e02-9e8a-224e00f10f2b",
   "metadata": {},
   "outputs": [
    {
     "data": {
      "text/html": [
       "<div>\n",
       "<style scoped>\n",
       "    .dataframe tbody tr th:only-of-type {\n",
       "        vertical-align: middle;\n",
       "    }\n",
       "\n",
       "    .dataframe tbody tr th {\n",
       "        vertical-align: top;\n",
       "    }\n",
       "\n",
       "    .dataframe thead th {\n",
       "        text-align: right;\n",
       "    }\n",
       "</style>\n",
       "<table border=\"1\" class=\"dataframe\">\n",
       "  <thead>\n",
       "    <tr style=\"text-align: right;\">\n",
       "      <th></th>\n",
       "      <th>id</th>\n",
       "      <th>question1</th>\n",
       "      <th>question2</th>\n",
       "      <th>q1_clean</th>\n",
       "      <th>q2_clean</th>\n",
       "    </tr>\n",
       "  </thead>\n",
       "  <tbody>\n",
       "    <tr>\n",
       "      <th>271488</th>\n",
       "      <td>271488</td>\n",
       "      <td>do pilots carry in their flight bags?</td>\n",
       "      <td>are the things an airline pilot carry in thei...</td>\n",
       "      <td>[pilot, carri, flight, bag]</td>\n",
       "      <td>[thing, airlin, pilot, carri, flight, bag]</td>\n",
       "    </tr>\n",
       "    <tr>\n",
       "      <th>659</th>\n",
       "      <td>659</td>\n",
       "      <td>long can raw and cooked sausage last refriger...</td>\n",
       "      <td>long does onigirlast if left refrigerated?  c...</td>\n",
       "      <td>[long, raw, cook, sausag, last, refriger]</td>\n",
       "      <td>[long, onigirlast, left, refriger, kept, longer]</td>\n",
       "    </tr>\n",
       "    <tr>\n",
       "      <th>319232</th>\n",
       "      <td>319232</td>\n",
       "      <td>do need for video streaming?</td>\n",
       "      <td>, from an infrastructure point of view, do nee...</td>\n",
       "      <td>[need, video, stream]</td>\n",
       "      <td>[infrastructur, point, view, need, creat, webs...</td>\n",
       "    </tr>\n",
       "    <tr>\n",
       "      <th>352892</th>\n",
       "      <td>352892</td>\n",
       "      <td>are the benefits you got from reading?</td>\n",
       "      <td>are some benefits of reading?</td>\n",
       "      <td>[benefit, got, read]</td>\n",
       "      <td>[benefit, read]</td>\n",
       "    </tr>\n",
       "    <tr>\n",
       "      <th>147381</th>\n",
       "      <td>147381</td>\n",
       "      <td>am drunk,  should do?</td>\n",
       "      <td>do know that am drunk?</td>\n",
       "      <td>[drunk]</td>\n",
       "      <td>[know, drunk]</td>\n",
       "    </tr>\n",
       "  </tbody>\n",
       "</table>\n",
       "</div>"
      ],
      "text/plain": [
       "            id                                          question1  \\\n",
       "271488  271488              do pilots carry in their flight bags?   \n",
       "659        659   long can raw and cooked sausage last refriger...   \n",
       "319232  319232                       do need for video streaming?   \n",
       "352892  352892             are the benefits you got from reading?   \n",
       "147381  147381                              am drunk,  should do?   \n",
       "\n",
       "                                                question2  \\\n",
       "271488   are the things an airline pilot carry in thei...   \n",
       "659      long does onigirlast if left refrigerated?  c...   \n",
       "319232  , from an infrastructure point of view, do nee...   \n",
       "352892                      are some benefits of reading?   \n",
       "147381                             do know that am drunk?   \n",
       "\n",
       "                                         q1_clean  \\\n",
       "271488                [pilot, carri, flight, bag]   \n",
       "659     [long, raw, cook, sausag, last, refriger]   \n",
       "319232                      [need, video, stream]   \n",
       "352892                       [benefit, got, read]   \n",
       "147381                                    [drunk]   \n",
       "\n",
       "                                                 q2_clean  \n",
       "271488         [thing, airlin, pilot, carri, flight, bag]  \n",
       "659      [long, onigirlast, left, refriger, kept, longer]  \n",
       "319232  [infrastructur, point, view, need, creat, webs...  \n",
       "352892                                    [benefit, read]  \n",
       "147381                                      [know, drunk]  "
      ]
     },
     "execution_count": 26,
     "metadata": {},
     "output_type": "execute_result"
    }
   ],
   "source": [
    "x_train.head()"
   ]
  },
  {
   "cell_type": "code",
   "execution_count": 27,
   "id": "d3919ba8-6bf1-41c5-a891-9cf203132b1d",
   "metadata": {},
   "outputs": [
    {
     "name": "stdout",
     "output_type": "stream",
     "text": [
      "(283000, 3)\n"
     ]
    },
    {
     "data": {
      "text/html": [
       "<div>\n",
       "<style scoped>\n",
       "    .dataframe tbody tr th:only-of-type {\n",
       "        vertical-align: middle;\n",
       "    }\n",
       "\n",
       "    .dataframe tbody tr th {\n",
       "        vertical-align: top;\n",
       "    }\n",
       "\n",
       "    .dataframe thead th {\n",
       "        text-align: right;\n",
       "    }\n",
       "</style>\n",
       "<table border=\"1\" class=\"dataframe\">\n",
       "  <thead>\n",
       "    <tr style=\"text-align: right;\">\n",
       "      <th></th>\n",
       "      <th>id</th>\n",
       "      <th>q1_clean</th>\n",
       "      <th>q2_clean</th>\n",
       "    </tr>\n",
       "  </thead>\n",
       "  <tbody>\n",
       "    <tr>\n",
       "      <th>271488</th>\n",
       "      <td>271488</td>\n",
       "      <td>[pilot, carri, flight, bag]</td>\n",
       "      <td>[thing, airlin, pilot, carri, flight, bag]</td>\n",
       "    </tr>\n",
       "    <tr>\n",
       "      <th>659</th>\n",
       "      <td>659</td>\n",
       "      <td>[long, raw, cook, sausag, last, refriger]</td>\n",
       "      <td>[long, onigirlast, left, refriger, kept, longer]</td>\n",
       "    </tr>\n",
       "    <tr>\n",
       "      <th>319232</th>\n",
       "      <td>319232</td>\n",
       "      <td>[need, video, stream]</td>\n",
       "      <td>[infrastructur, point, view, need, creat, webs...</td>\n",
       "    </tr>\n",
       "    <tr>\n",
       "      <th>352892</th>\n",
       "      <td>352892</td>\n",
       "      <td>[benefit, got, read]</td>\n",
       "      <td>[benefit, read]</td>\n",
       "    </tr>\n",
       "    <tr>\n",
       "      <th>147381</th>\n",
       "      <td>147381</td>\n",
       "      <td>[drunk]</td>\n",
       "      <td>[know, drunk]</td>\n",
       "    </tr>\n",
       "  </tbody>\n",
       "</table>\n",
       "</div>"
      ],
      "text/plain": [
       "            id                                   q1_clean  \\\n",
       "271488  271488                [pilot, carri, flight, bag]   \n",
       "659        659  [long, raw, cook, sausag, last, refriger]   \n",
       "319232  319232                      [need, video, stream]   \n",
       "352892  352892                       [benefit, got, read]   \n",
       "147381  147381                                    [drunk]   \n",
       "\n",
       "                                                 q2_clean  \n",
       "271488         [thing, airlin, pilot, carri, flight, bag]  \n",
       "659      [long, onigirlast, left, refriger, kept, longer]  \n",
       "319232  [infrastructur, point, view, need, creat, webs...  \n",
       "352892                                    [benefit, read]  \n",
       "147381                                      [know, drunk]  "
      ]
     },
     "execution_count": 27,
     "metadata": {},
     "output_type": "execute_result"
    }
   ],
   "source": [
    "# Remove uncleaned question columns from x dataframe\n",
    "x_train=x_train[['id', 'q1_clean', 'q2_clean']]\n",
    "x_test=x_test[['id', 'q1_clean', 'q2_clean']]\n",
    "print(x_train.shape)\n",
    "x_train.head()"
   ]
  },
  {
   "cell_type": "markdown",
   "id": "622e667c-4a1f-480c-a844-440eb173f8f3",
   "metadata": {
    "tags": []
   },
   "source": [
    "## 4. Feature Engineering"
   ]
  },
  {
   "cell_type": "markdown",
   "id": "5b160051-7d64-408c-9663-28ae2a2f626f",
   "metadata": {},
   "source": [
    "### Word2vec"
   ]
  },
  {
   "cell_type": "code",
   "execution_count": 28,
   "id": "1c0141b9-8390-4dbd-9d22-40c97d01d34e",
   "metadata": {},
   "outputs": [],
   "source": [
    "# Instantiate Word2Vec\n",
    "\n",
    "word2vec_1=Word2Vec(x_train['q1_clean'], min_count=2)\n",
    "word2vec_2=Word2Vec(x_train['q2_clean'], min_count=2)"
   ]
  },
  {
   "cell_type": "code",
   "execution_count": 29,
   "id": "bb5e7326-660a-4fa7-811f-4f1f4585dacc",
   "metadata": {},
   "outputs": [],
   "source": [
    "# Display unique words that appear at least twice in the dictionary\n",
    "\n",
    "vocabulary1 = word2vec_1.wv.index_to_key\n",
    "vocabulary2 = word2vec_2.wv.index_to_key"
   ]
  },
  {
   "cell_type": "code",
   "execution_count": 30,
   "id": "bc9676eb-4623-43b9-a398-86c1266711ee",
   "metadata": {},
   "outputs": [
    {
     "data": {
      "text/plain": [
       "[('cheapest', 0.6594325304031372),\n",
       " ('fastest', 0.6345575451850891),\n",
       " ('safest', 0.6214231252670288),\n",
       " ('suitabl', 0.6018700003623962),\n",
       " ('good', 0.5988691449165344),\n",
       " ('easiest', 0.5930651426315308),\n",
       " ('stuntmen', 0.5844835042953491),\n",
       " ('easi', 0.5522700548171997),\n",
       " ('favourit', 0.5466839671134949),\n",
       " ('britian', 0.5459638237953186)]"
      ]
     },
     "execution_count": 30,
     "metadata": {},
     "output_type": "execute_result"
    }
   ],
   "source": [
    "# Display similar word vector scores to randomly chosen word\n",
    "\n",
    "sim_words = word2vec_1.wv.most_similar('best')\n",
    "sim_words"
   ]
  },
  {
   "cell_type": "markdown",
   "id": "4280a611-ee1d-4d2e-815a-c811f7ab6765",
   "metadata": {},
   "source": [
    "### Tfidf"
   ]
  },
  {
   "cell_type": "code",
   "execution_count": 31,
   "id": "1b4b034e-6969-4dd8-a59a-6e54970ff501",
   "metadata": {},
   "outputs": [],
   "source": [
    "# Apply lambda function to remove words from list\n",
    "\n",
    "x_train['q1_clean'] = x_train['q1_clean'].apply(lambda x: ' '.join(x))\n",
    "x_train['q2_clean'] = x_train['q2_clean'].apply(lambda x: ' '.join(x))"
   ]
  },
  {
   "cell_type": "code",
   "execution_count": 32,
   "id": "cc506dbf-e5d4-4579-8d29-18a053d17722",
   "metadata": {},
   "outputs": [],
   "source": [
    "x_test['q1_clean'] = x_test['q1_clean'].apply(lambda x: ' '.join(x))\n",
    "x_test['q2_clean'] = x_test['q2_clean'].apply(lambda x: ' '.join(x))"
   ]
  },
  {
   "cell_type": "code",
   "execution_count": 33,
   "id": "3b6cda79-2b5a-42b2-a1c4-91fdddeffe72",
   "metadata": {},
   "outputs": [],
   "source": [
    "# Instantiate Tfidf\n",
    "vectorizer=TfidfVectorizer(strip_accents=ascii, lowercase=False, max_df=0.6)\n",
    "\n",
    "X1_tfidf=vectorizer.fit(x_train['q1_clean'])\n",
    "X2_tfidf=vectorizer.fit(x_train['q2_clean'])"
   ]
  },
  {
   "cell_type": "code",
   "execution_count": 34,
   "id": "c492e0b5-ba74-46b1-9293-1e8a05cfd477",
   "metadata": {},
   "outputs": [],
   "source": [
    "X1_test=vectorizer.fit(x_test['q1_clean'])\n",
    "X2_test=vectorizer.fit(x_test['q2_clean'])"
   ]
  },
  {
   "cell_type": "code",
   "execution_count": 35,
   "id": "9b60ae9d-51b5-4a0f-bf83-ca1c1add64ae",
   "metadata": {},
   "outputs": [],
   "source": [
    "# Encoding the columns\n",
    "X1_vector=vectorizer.transform(x_train['q1_clean'])\n",
    "X2_vector=vectorizer.transform(x_train['q2_clean'])"
   ]
  },
  {
   "cell_type": "code",
   "execution_count": 36,
   "id": "3bfd90bc-9dc9-4334-aeb0-f1725df10083",
   "metadata": {},
   "outputs": [],
   "source": [
    "X1_testVector=vectorizer.transform(x_test['q1_clean'])\n",
    "X2_testVector=vectorizer.transform(x_test['q2_clean'])"
   ]
  },
  {
   "cell_type": "code",
   "execution_count": 37,
   "id": "3a60813f-19d4-44d8-9cab-24e3f07a6814",
   "metadata": {},
   "outputs": [
    {
     "name": "stdout",
     "output_type": "stream",
     "text": [
      "vectors:  [[0. 0. 0. ... 0. 0. 0.]\n",
      " [0. 0. 0. ... 0. 0. 0.]\n",
      " [0. 0. 0. ... 0. 0. 0.]\n",
      " ...\n",
      " [0. 0. 0. ... 0. 0. 0.]\n",
      " [0. 0. 0. ... 0. 0. 0.]\n",
      " [0. 0. 0. ... 0. 0. 0.]]\n",
      "vectors:  [[0. 0. 0. ... 0. 0. 0.]\n",
      " [0. 0. 0. ... 0. 0. 0.]\n",
      " [0. 0. 0. ... 0. 0. 0.]\n",
      " ...\n",
      " [0. 0. 0. ... 0. 0. 0.]\n",
      " [0. 0. 0. ... 0. 0. 0.]\n",
      " [0. 0. 0. ... 0. 0. 0.]]\n"
     ]
    }
   ],
   "source": [
    "# summarize encoded vector\n",
    "print('vectors: ', X1_vector.toarray())\n",
    "print('vectors: ', X2_vector.toarray())"
   ]
  },
  {
   "cell_type": "code",
   "execution_count": 38,
   "id": "f1a7a68c-1943-4a26-99b9-7048d3e56cd7",
   "metadata": {},
   "outputs": [
    {
     "name": "stdout",
     "output_type": "stream",
     "text": [
      "1.998628154266811\n",
      "2.4212388223483727\n"
     ]
    }
   ],
   "source": [
    "# Check to ensure not all values are 0 in sparse matrix\n",
    "\n",
    "print(X1_vector[0].sum())\n",
    "print(X2_vector[0].sum())"
   ]
  },
  {
   "cell_type": "code",
   "execution_count": 39,
   "id": "03ab75ff-75b3-4feb-b573-aeecc144cdc3",
   "metadata": {},
   "outputs": [
    {
     "data": {
      "text/html": [
       "<div>\n",
       "<style scoped>\n",
       "    .dataframe tbody tr th:only-of-type {\n",
       "        vertical-align: middle;\n",
       "    }\n",
       "\n",
       "    .dataframe tbody tr th {\n",
       "        vertical-align: top;\n",
       "    }\n",
       "\n",
       "    .dataframe thead th {\n",
       "        text-align: right;\n",
       "    }\n",
       "</style>\n",
       "<table border=\"1\" class=\"dataframe\">\n",
       "  <thead>\n",
       "    <tr style=\"text-align: right;\">\n",
       "      <th></th>\n",
       "      <th>q1</th>\n",
       "    </tr>\n",
       "  </thead>\n",
       "  <tbody>\n",
       "    <tr>\n",
       "      <th>0</th>\n",
       "      <td>(0, 22580)\\t0.4986456030397158\\n  (0, 11513)...</td>\n",
       "    </tr>\n",
       "    <tr>\n",
       "      <th>1</th>\n",
       "      <td>(0, 25706)\\t0.5289715566116155\\n  (0, 24508)...</td>\n",
       "    </tr>\n",
       "    <tr>\n",
       "      <th>2</th>\n",
       "      <td>(0, 31658)\\t0.538356518832852\\n  (0, 27919)\\...</td>\n",
       "    </tr>\n",
       "    <tr>\n",
       "      <th>3</th>\n",
       "      <td>(0, 24291)\\t0.5346183715637537\\n  (0, 12725)...</td>\n",
       "    </tr>\n",
       "    <tr>\n",
       "      <th>4</th>\n",
       "      <td>(0, 9693)\\t1.0</td>\n",
       "    </tr>\n",
       "  </tbody>\n",
       "</table>\n",
       "</div>"
      ],
      "text/plain": [
       "                                                  q1\n",
       "0    (0, 22580)\\t0.4986456030397158\\n  (0, 11513)...\n",
       "1    (0, 25706)\\t0.5289715566116155\\n  (0, 24508)...\n",
       "2    (0, 31658)\\t0.538356518832852\\n  (0, 27919)\\...\n",
       "3    (0, 24291)\\t0.5346183715637537\\n  (0, 12725)...\n",
       "4                                     (0, 9693)\\t1.0"
      ]
     },
     "execution_count": 39,
     "metadata": {},
     "output_type": "execute_result"
    }
   ],
   "source": [
    "# Create separate dataframes of each vectorized column\n",
    "X1_df=pd.DataFrame(X1_vector, columns=['q1'])\n",
    "X1_df.head()"
   ]
  },
  {
   "cell_type": "code",
   "execution_count": 40,
   "id": "cc52c0b9-a109-4905-80d7-31562971d55a",
   "metadata": {},
   "outputs": [
    {
     "data": {
      "text/html": [
       "<div>\n",
       "<style scoped>\n",
       "    .dataframe tbody tr th:only-of-type {\n",
       "        vertical-align: middle;\n",
       "    }\n",
       "\n",
       "    .dataframe tbody tr th {\n",
       "        vertical-align: top;\n",
       "    }\n",
       "\n",
       "    .dataframe thead th {\n",
       "        text-align: right;\n",
       "    }\n",
       "</style>\n",
       "<table border=\"1\" class=\"dataframe\">\n",
       "  <thead>\n",
       "    <tr style=\"text-align: right;\">\n",
       "      <th></th>\n",
       "      <th>q2</th>\n",
       "    </tr>\n",
       "  </thead>\n",
       "  <tbody>\n",
       "    <tr>\n",
       "      <th>0</th>\n",
       "      <td>(0, 29118)\\t0.26840811203114845\\n  (0, 22580...</td>\n",
       "    </tr>\n",
       "    <tr>\n",
       "      <th>1</th>\n",
       "      <td>(0, 24508)\\t0.5000324835474549\\n  (0, 17454)...</td>\n",
       "    </tr>\n",
       "    <tr>\n",
       "      <th>2</th>\n",
       "      <td>(0, 32206)\\t0.25253979823040484\\n  (0, 31678...</td>\n",
       "    </tr>\n",
       "    <tr>\n",
       "      <th>3</th>\n",
       "      <td>(0, 24291)\\t0.6637123462685323\\n  (0, 4597)\\...</td>\n",
       "    </tr>\n",
       "    <tr>\n",
       "      <th>4</th>\n",
       "      <td>(0, 16466)\\t0.47901587552842606\\n  (0, 9693)...</td>\n",
       "    </tr>\n",
       "  </tbody>\n",
       "</table>\n",
       "</div>"
      ],
      "text/plain": [
       "                                                  q2\n",
       "0    (0, 29118)\\t0.26840811203114845\\n  (0, 22580...\n",
       "1    (0, 24508)\\t0.5000324835474549\\n  (0, 17454)...\n",
       "2    (0, 32206)\\t0.25253979823040484\\n  (0, 31678...\n",
       "3    (0, 24291)\\t0.6637123462685323\\n  (0, 4597)\\...\n",
       "4    (0, 16466)\\t0.47901587552842606\\n  (0, 9693)..."
      ]
     },
     "execution_count": 40,
     "metadata": {},
     "output_type": "execute_result"
    }
   ],
   "source": [
    "# Create 2nd separate df of q2 vectorized column\n",
    "X2_df=pd.DataFrame(X2_vector, columns=['q2'])\n",
    "X2_df.head()"
   ]
  },
  {
   "cell_type": "code",
   "execution_count": 41,
   "id": "f67ed6b3-560f-425e-a24b-04f6e21845ac",
   "metadata": {},
   "outputs": [
    {
     "data": {
      "text/html": [
       "<div>\n",
       "<style scoped>\n",
       "    .dataframe tbody tr th:only-of-type {\n",
       "        vertical-align: middle;\n",
       "    }\n",
       "\n",
       "    .dataframe tbody tr th {\n",
       "        vertical-align: top;\n",
       "    }\n",
       "\n",
       "    .dataframe thead th {\n",
       "        text-align: right;\n",
       "    }\n",
       "</style>\n",
       "<table border=\"1\" class=\"dataframe\">\n",
       "  <thead>\n",
       "    <tr style=\"text-align: right;\">\n",
       "      <th></th>\n",
       "      <th>q1</th>\n",
       "      <th>q2</th>\n",
       "    </tr>\n",
       "  </thead>\n",
       "  <tbody>\n",
       "    <tr>\n",
       "      <th>0</th>\n",
       "      <td>(0, 22580)\\t0.4986456030397158\\n  (0, 11513)...</td>\n",
       "      <td>(0, 29118)\\t0.26840811203114845\\n  (0, 22580...</td>\n",
       "    </tr>\n",
       "    <tr>\n",
       "      <th>1</th>\n",
       "      <td>(0, 25706)\\t0.5289715566116155\\n  (0, 24508)...</td>\n",
       "      <td>(0, 24508)\\t0.5000324835474549\\n  (0, 17454)...</td>\n",
       "    </tr>\n",
       "    <tr>\n",
       "      <th>2</th>\n",
       "      <td>(0, 31658)\\t0.538356518832852\\n  (0, 27919)\\...</td>\n",
       "      <td>(0, 32206)\\t0.25253979823040484\\n  (0, 31678...</td>\n",
       "    </tr>\n",
       "    <tr>\n",
       "      <th>3</th>\n",
       "      <td>(0, 24291)\\t0.5346183715637537\\n  (0, 12725)...</td>\n",
       "      <td>(0, 24291)\\t0.6637123462685323\\n  (0, 4597)\\...</td>\n",
       "    </tr>\n",
       "    <tr>\n",
       "      <th>4</th>\n",
       "      <td>(0, 9693)\\t1.0</td>\n",
       "      <td>(0, 16466)\\t0.47901587552842606\\n  (0, 9693)...</td>\n",
       "    </tr>\n",
       "  </tbody>\n",
       "</table>\n",
       "</div>"
      ],
      "text/plain": [
       "                                                  q1  \\\n",
       "0    (0, 22580)\\t0.4986456030397158\\n  (0, 11513)...   \n",
       "1    (0, 25706)\\t0.5289715566116155\\n  (0, 24508)...   \n",
       "2    (0, 31658)\\t0.538356518832852\\n  (0, 27919)\\...   \n",
       "3    (0, 24291)\\t0.5346183715637537\\n  (0, 12725)...   \n",
       "4                                     (0, 9693)\\t1.0   \n",
       "\n",
       "                                                  q2  \n",
       "0    (0, 29118)\\t0.26840811203114845\\n  (0, 22580...  \n",
       "1    (0, 24508)\\t0.5000324835474549\\n  (0, 17454)...  \n",
       "2    (0, 32206)\\t0.25253979823040484\\n  (0, 31678...  \n",
       "3    (0, 24291)\\t0.6637123462685323\\n  (0, 4597)\\...  \n",
       "4    (0, 16466)\\t0.47901587552842606\\n  (0, 9693)...  "
      ]
     },
     "execution_count": 41,
     "metadata": {},
     "output_type": "execute_result"
    }
   ],
   "source": [
    "vectorized_df=pd.concat([X1_df, X2_df], axis=1)\n",
    "vectorized_df.head()"
   ]
  },
  {
   "cell_type": "code",
   "execution_count": 42,
   "id": "764842fc-b395-43a4-a91b-25b9a5f67449",
   "metadata": {},
   "outputs": [
    {
     "data": {
      "text/html": [
       "<div>\n",
       "<style scoped>\n",
       "    .dataframe tbody tr th:only-of-type {\n",
       "        vertical-align: middle;\n",
       "    }\n",
       "\n",
       "    .dataframe tbody tr th {\n",
       "        vertical-align: top;\n",
       "    }\n",
       "\n",
       "    .dataframe thead th {\n",
       "        text-align: right;\n",
       "    }\n",
       "</style>\n",
       "<table border=\"1\" class=\"dataframe\">\n",
       "  <thead>\n",
       "    <tr style=\"text-align: right;\">\n",
       "      <th></th>\n",
       "      <th>q1</th>\n",
       "      <th>q2</th>\n",
       "    </tr>\n",
       "  </thead>\n",
       "  <tbody>\n",
       "    <tr>\n",
       "      <th>0</th>\n",
       "      <td>(0, 23372)\\t0.3251344157581774\\n  (0, 8936)\\...</td>\n",
       "      <td>(0, 23372)\\t0.3202632030925727\\n  (0, 22709)...</td>\n",
       "    </tr>\n",
       "    <tr>\n",
       "      <th>1</th>\n",
       "      <td>(0, 32689)\\t0.4072867067672329\\n  (0, 32030)...</td>\n",
       "      <td>(0, 32689)\\t0.34473161740889585\\n  (0, 32030...</td>\n",
       "    </tr>\n",
       "    <tr>\n",
       "      <th>2</th>\n",
       "      <td>(0, 32711)\\t0.34922750236358824\\n  (0, 32333...</td>\n",
       "      <td>(0, 32333)\\t0.2891888242558739\\n  (0, 22218)...</td>\n",
       "    </tr>\n",
       "    <tr>\n",
       "      <th>3</th>\n",
       "      <td>(0, 31028)\\t0.2765560190314651\\n  (0, 24414)...</td>\n",
       "      <td>(0, 31028)\\t0.29713583300637086\\n  (0, 27573...</td>\n",
       "    </tr>\n",
       "    <tr>\n",
       "      <th>4</th>\n",
       "      <td>(0, 31869)\\t0.48321306497181876\\n  (0, 13446...</td>\n",
       "      <td>(0, 32590)\\t0.20395978779805138\\n  (0, 31869...</td>\n",
       "    </tr>\n",
       "  </tbody>\n",
       "</table>\n",
       "</div>"
      ],
      "text/plain": [
       "                                                  q1  \\\n",
       "0    (0, 23372)\\t0.3251344157581774\\n  (0, 8936)\\...   \n",
       "1    (0, 32689)\\t0.4072867067672329\\n  (0, 32030)...   \n",
       "2    (0, 32711)\\t0.34922750236358824\\n  (0, 32333...   \n",
       "3    (0, 31028)\\t0.2765560190314651\\n  (0, 24414)...   \n",
       "4    (0, 31869)\\t0.48321306497181876\\n  (0, 13446...   \n",
       "\n",
       "                                                  q2  \n",
       "0    (0, 23372)\\t0.3202632030925727\\n  (0, 22709)...  \n",
       "1    (0, 32689)\\t0.34473161740889585\\n  (0, 32030...  \n",
       "2    (0, 32333)\\t0.2891888242558739\\n  (0, 22218)...  \n",
       "3    (0, 31028)\\t0.29713583300637086\\n  (0, 27573...  \n",
       "4    (0, 32590)\\t0.20395978779805138\\n  (0, 31869...  "
      ]
     },
     "execution_count": 42,
     "metadata": {},
     "output_type": "execute_result"
    }
   ],
   "source": [
    "X1_test_df=pd.DataFrame(X1_testVector, columns=['q1'])\n",
    "X2_test_df=pd.DataFrame(X2_testVector, columns=['q2'])\n",
    "test_vectorized_df=pd.concat([X1_test_df, X2_test_df], axis=1)\n",
    "test_vectorized_df.head()"
   ]
  },
  {
   "cell_type": "code",
   "execution_count": 43,
   "id": "36633cc9-4287-49f6-86e2-e89958e0c6d5",
   "metadata": {},
   "outputs": [
    {
     "data": {
      "text/plain": [
       "range(0, 283000)"
      ]
     },
     "execution_count": 43,
     "metadata": {},
     "output_type": "execute_result"
    }
   ],
   "source": [
    "range(len(vectorized_df))"
   ]
  },
  {
   "cell_type": "code",
   "execution_count": 44,
   "id": "c37d4564-0895-4d1e-8028-d8d82e7f3353",
   "metadata": {},
   "outputs": [
    {
     "data": {
      "text/plain": [
       "range(0, 121287)"
      ]
     },
     "execution_count": 44,
     "metadata": {},
     "output_type": "execute_result"
    }
   ],
   "source": [
    "range(len(test_vectorized_df))"
   ]
  },
  {
   "cell_type": "code",
   "execution_count": 45,
   "id": "c56d4575-6ebd-4060-95b6-0f73488f3230",
   "metadata": {},
   "outputs": [
    {
     "data": {
      "text/plain": [
       "array([[0.86071001]])"
      ]
     },
     "execution_count": 45,
     "metadata": {},
     "output_type": "execute_result"
    }
   ],
   "source": [
    "# Get the cosine_similarity of 1 row\n",
    "cosine_similarity(vectorized_df['q1'][0], vectorized_df['q2'][0])"
   ]
  },
  {
   "cell_type": "code",
   "execution_count": 46,
   "id": "97d41258-315f-4ab0-8228-7114ee61d1f2",
   "metadata": {},
   "outputs": [],
   "source": [
    "# Iterate through each row of the dataframe to get all the cosine_similarities\n",
    "\n",
    "cosine=[]\n",
    "\n",
    "for row in range(len(vectorized_df)):\n",
    "    cosine.append(cosine_similarity(vectorized_df['q1'][row], vectorized_df['q2'][row]))"
   ]
  },
  {
   "cell_type": "code",
   "execution_count": 47,
   "id": "8fa8b9be-2a87-4508-a468-ed7b8bd88f10",
   "metadata": {},
   "outputs": [],
   "source": [
    "testCosine=[]\n",
    "\n",
    "for row in range(len(test_vectorized_df)):\n",
    "    testCosine.append(cosine_similarity(test_vectorized_df['q1'][row], test_vectorized_df['q2'][row]))"
   ]
  },
  {
   "cell_type": "code",
   "execution_count": 48,
   "id": "c79df808-81b1-470e-aa1c-8e1b681dbeeb",
   "metadata": {},
   "outputs": [],
   "source": [
    "# Reshape list in order to convert to DataFrame\n",
    "cosine1=np.reshape(cosine, (283000,1))"
   ]
  },
  {
   "cell_type": "code",
   "execution_count": 49,
   "id": "54ec7e40-2cd2-4ccb-8140-cff7cc416c45",
   "metadata": {},
   "outputs": [],
   "source": [
    "testcosine1=np.reshape(testCosine, (121287,1))"
   ]
  },
  {
   "cell_type": "code",
   "execution_count": 50,
   "id": "49bf319f-7ed1-49a1-b9fe-8e4f848ce7aa",
   "metadata": {},
   "outputs": [],
   "source": [
    "# Create dataframe from list\n",
    "cosine_df = pd.DataFrame(cosine1, columns=['cosine_sim'])"
   ]
  },
  {
   "cell_type": "code",
   "execution_count": 51,
   "id": "9c89bfa3-7f1f-4b56-918f-660237a782df",
   "metadata": {},
   "outputs": [],
   "source": [
    "test_cosine_df=pd.DataFrame(testcosine1, columns=['cosine_sim'])"
   ]
  },
  {
   "cell_type": "code",
   "execution_count": 52,
   "id": "68665f78-cb86-4777-aadc-7302b6760a23",
   "metadata": {},
   "outputs": [],
   "source": [
    "# Concatenate cosine_similarity score to vectorized dataframe\n",
    "vectorized_final=pd.concat([vectorized_df, cosine_df],axis=1)"
   ]
  },
  {
   "cell_type": "code",
   "execution_count": 53,
   "id": "56903ab8-a919-4754-a9cc-abab03050607",
   "metadata": {},
   "outputs": [],
   "source": [
    "test_vectorized_final=pd.concat([test_vectorized_df, test_cosine_df], axis=1)"
   ]
  },
  {
   "cell_type": "code",
   "execution_count": 54,
   "id": "d42596ea-c441-41cb-896f-061641c7e498",
   "metadata": {},
   "outputs": [
    {
     "data": {
      "text/html": [
       "<div>\n",
       "<style scoped>\n",
       "    .dataframe tbody tr th:only-of-type {\n",
       "        vertical-align: middle;\n",
       "    }\n",
       "\n",
       "    .dataframe tbody tr th {\n",
       "        vertical-align: top;\n",
       "    }\n",
       "\n",
       "    .dataframe thead th {\n",
       "        text-align: right;\n",
       "    }\n",
       "</style>\n",
       "<table border=\"1\" class=\"dataframe\">\n",
       "  <thead>\n",
       "    <tr style=\"text-align: right;\">\n",
       "      <th></th>\n",
       "      <th>q1</th>\n",
       "      <th>q2</th>\n",
       "      <th>cosine_sim</th>\n",
       "    </tr>\n",
       "  </thead>\n",
       "  <tbody>\n",
       "    <tr>\n",
       "      <th>282995</th>\n",
       "      <td>(0, 32333)\\t0.3009568372517852\\n  (0, 26839)...</td>\n",
       "      <td>(0, 32333)\\t0.2904858111851718\\n  (0, 22218)...</td>\n",
       "      <td>0.417177</td>\n",
       "    </tr>\n",
       "    <tr>\n",
       "      <th>282996</th>\n",
       "      <td>(0, 32334)\\t0.29994745445854126\\n  (0, 15074...</td>\n",
       "      <td>(0, 33187)\\t0.3027510891673205\\n  (0, 32024)...</td>\n",
       "      <td>0.119377</td>\n",
       "    </tr>\n",
       "    <tr>\n",
       "      <th>282997</th>\n",
       "      <td>(0, 25058)\\t0.4566864473011708\\n  (0, 14044)...</td>\n",
       "      <td>(0, 25058)\\t0.4456092494937859\\n  (0, 14044)...</td>\n",
       "      <td>0.975744</td>\n",
       "    </tr>\n",
       "    <tr>\n",
       "      <th>282998</th>\n",
       "      <td>(0, 29122)\\t0.17621632274395\\n  (0, 29118)\\t...</td>\n",
       "      <td>(0, 29122)\\t0.17348823015983014\\n  (0, 29118...</td>\n",
       "      <td>0.984519</td>\n",
       "    </tr>\n",
       "    <tr>\n",
       "      <th>282999</th>\n",
       "      <td>(0, 26177)\\t1.0</td>\n",
       "      <td>(0, 26177)\\t0.6365530467271575\\n  (0, 19886)...</td>\n",
       "      <td>0.636553</td>\n",
       "    </tr>\n",
       "  </tbody>\n",
       "</table>\n",
       "</div>"
      ],
      "text/plain": [
       "                                                       q1  \\\n",
       "282995    (0, 32333)\\t0.3009568372517852\\n  (0, 26839)...   \n",
       "282996    (0, 32334)\\t0.29994745445854126\\n  (0, 15074...   \n",
       "282997    (0, 25058)\\t0.4566864473011708\\n  (0, 14044)...   \n",
       "282998    (0, 29122)\\t0.17621632274395\\n  (0, 29118)\\t...   \n",
       "282999                                    (0, 26177)\\t1.0   \n",
       "\n",
       "                                                       q2  cosine_sim  \n",
       "282995    (0, 32333)\\t0.2904858111851718\\n  (0, 22218)...    0.417177  \n",
       "282996    (0, 33187)\\t0.3027510891673205\\n  (0, 32024)...    0.119377  \n",
       "282997    (0, 25058)\\t0.4456092494937859\\n  (0, 14044)...    0.975744  \n",
       "282998    (0, 29122)\\t0.17348823015983014\\n  (0, 29118...    0.984519  \n",
       "282999    (0, 26177)\\t0.6365530467271575\\n  (0, 19886)...    0.636553  "
      ]
     },
     "execution_count": 54,
     "metadata": {},
     "output_type": "execute_result"
    }
   ],
   "source": [
    "vectorized_final.tail()"
   ]
  },
  {
   "cell_type": "markdown",
   "id": "103885ef-52fe-4cc2-83a7-77a8abd44a4f",
   "metadata": {},
   "source": [
    "### Word count"
   ]
  },
  {
   "cell_type": "code",
   "execution_count": 55,
   "id": "da6a8b07-1df5-49ff-aefd-c7a7dce588c6",
   "metadata": {},
   "outputs": [
    {
     "name": "stdout",
     "output_type": "stream",
     "text": [
      "(283000,)\n",
      "(283000,)\n"
     ]
    }
   ],
   "source": [
    "print(x_train['q1_clean'].shape)\n",
    "print(x_train['q2_clean'].shape)"
   ]
  },
  {
   "cell_type": "code",
   "execution_count": 56,
   "id": "551d56ec-f114-4c00-bbc2-9020317c670b",
   "metadata": {},
   "outputs": [],
   "source": [
    "# Instantiate CountVectorizer\n",
    "countVectorizer=CountVectorizer(strip_accents=ascii, lowercase=False)"
   ]
  },
  {
   "cell_type": "code",
   "execution_count": 57,
   "id": "2a0bc886-0285-481f-9b51-0e7ee100a049",
   "metadata": {},
   "outputs": [
    {
     "name": "stderr",
     "output_type": "stream",
     "text": [
      "/var/folders/cl/dg9768bj6ys0prn_4p_bbftw0000gn/T/ipykernel_69059/3026513544.py:1: FutureWarning: The series.append method is deprecated and will be removed from pandas in a future version. Use pandas.concat instead.\n",
      "  x_train_clean = x_train['q1_clean'].append(x_train['q2_clean'])\n"
     ]
    }
   ],
   "source": [
    "x_train_clean = x_train['q1_clean'].append(x_train['q2_clean'])"
   ]
  },
  {
   "cell_type": "code",
   "execution_count": 58,
   "id": "e45de42f-0696-4d53-9cd5-ed119102d263",
   "metadata": {},
   "outputs": [
    {
     "name": "stderr",
     "output_type": "stream",
     "text": [
      "/var/folders/cl/dg9768bj6ys0prn_4p_bbftw0000gn/T/ipykernel_69059/1606382910.py:1: FutureWarning: The series.append method is deprecated and will be removed from pandas in a future version. Use pandas.concat instead.\n",
      "  x_test_clean = x_test['q1_clean'].append(x_test['q2_clean'])\n"
     ]
    }
   ],
   "source": [
    "x_test_clean = x_test['q1_clean'].append(x_test['q2_clean'])"
   ]
  },
  {
   "cell_type": "code",
   "execution_count": 59,
   "id": "61198c93-9e3a-4c49-aab8-a5396704cf6c",
   "metadata": {},
   "outputs": [
    {
     "data": {
      "text/plain": [
       "566000"
      ]
     },
     "execution_count": 59,
     "metadata": {},
     "output_type": "execute_result"
    }
   ],
   "source": [
    "len(x_train_clean)"
   ]
  },
  {
   "cell_type": "code",
   "execution_count": 60,
   "id": "0e85a795-5e43-4afa-8f18-e43eeabcc22c",
   "metadata": {},
   "outputs": [
    {
     "data": {
      "text/html": [
       "<style>#sk-container-id-1 {color: black;background-color: white;}#sk-container-id-1 pre{padding: 0;}#sk-container-id-1 div.sk-toggleable {background-color: white;}#sk-container-id-1 label.sk-toggleable__label {cursor: pointer;display: block;width: 100%;margin-bottom: 0;padding: 0.3em;box-sizing: border-box;text-align: center;}#sk-container-id-1 label.sk-toggleable__label-arrow:before {content: \"▸\";float: left;margin-right: 0.25em;color: #696969;}#sk-container-id-1 label.sk-toggleable__label-arrow:hover:before {color: black;}#sk-container-id-1 div.sk-estimator:hover label.sk-toggleable__label-arrow:before {color: black;}#sk-container-id-1 div.sk-toggleable__content {max-height: 0;max-width: 0;overflow: hidden;text-align: left;background-color: #f0f8ff;}#sk-container-id-1 div.sk-toggleable__content pre {margin: 0.2em;color: black;border-radius: 0.25em;background-color: #f0f8ff;}#sk-container-id-1 input.sk-toggleable__control:checked~div.sk-toggleable__content {max-height: 200px;max-width: 100%;overflow: auto;}#sk-container-id-1 input.sk-toggleable__control:checked~label.sk-toggleable__label-arrow:before {content: \"▾\";}#sk-container-id-1 div.sk-estimator input.sk-toggleable__control:checked~label.sk-toggleable__label {background-color: #d4ebff;}#sk-container-id-1 div.sk-label input.sk-toggleable__control:checked~label.sk-toggleable__label {background-color: #d4ebff;}#sk-container-id-1 input.sk-hidden--visually {border: 0;clip: rect(1px 1px 1px 1px);clip: rect(1px, 1px, 1px, 1px);height: 1px;margin: -1px;overflow: hidden;padding: 0;position: absolute;width: 1px;}#sk-container-id-1 div.sk-estimator {font-family: monospace;background-color: #f0f8ff;border: 1px dotted black;border-radius: 0.25em;box-sizing: border-box;margin-bottom: 0.5em;}#sk-container-id-1 div.sk-estimator:hover {background-color: #d4ebff;}#sk-container-id-1 div.sk-parallel-item::after {content: \"\";width: 100%;border-bottom: 1px solid gray;flex-grow: 1;}#sk-container-id-1 div.sk-label:hover label.sk-toggleable__label {background-color: #d4ebff;}#sk-container-id-1 div.sk-serial::before {content: \"\";position: absolute;border-left: 1px solid gray;box-sizing: border-box;top: 0;bottom: 0;left: 50%;z-index: 0;}#sk-container-id-1 div.sk-serial {display: flex;flex-direction: column;align-items: center;background-color: white;padding-right: 0.2em;padding-left: 0.2em;position: relative;}#sk-container-id-1 div.sk-item {position: relative;z-index: 1;}#sk-container-id-1 div.sk-parallel {display: flex;align-items: stretch;justify-content: center;background-color: white;position: relative;}#sk-container-id-1 div.sk-item::before, #sk-container-id-1 div.sk-parallel-item::before {content: \"\";position: absolute;border-left: 1px solid gray;box-sizing: border-box;top: 0;bottom: 0;left: 50%;z-index: -1;}#sk-container-id-1 div.sk-parallel-item {display: flex;flex-direction: column;z-index: 1;position: relative;background-color: white;}#sk-container-id-1 div.sk-parallel-item:first-child::after {align-self: flex-end;width: 50%;}#sk-container-id-1 div.sk-parallel-item:last-child::after {align-self: flex-start;width: 50%;}#sk-container-id-1 div.sk-parallel-item:only-child::after {width: 0;}#sk-container-id-1 div.sk-dashed-wrapped {border: 1px dashed gray;margin: 0 0.4em 0.5em 0.4em;box-sizing: border-box;padding-bottom: 0.4em;background-color: white;}#sk-container-id-1 div.sk-label label {font-family: monospace;font-weight: bold;display: inline-block;line-height: 1.2em;}#sk-container-id-1 div.sk-label-container {text-align: center;}#sk-container-id-1 div.sk-container {/* jupyter's `normalize.less` sets `[hidden] { display: none; }` but bootstrap.min.css set `[hidden] { display: none !important; }` so we also need the `!important` here to be able to override the default hidden behavior on the sphinx rendered scikit-learn.org. See: https://github.com/scikit-learn/scikit-learn/issues/21755 */display: inline-block !important;position: relative;}#sk-container-id-1 div.sk-text-repr-fallback {display: none;}</style><div id=\"sk-container-id-1\" class=\"sk-top-container\"><div class=\"sk-text-repr-fallback\"><pre>CountVectorizer(lowercase=False, strip_accents=&lt;built-in function ascii&gt;)</pre><b>In a Jupyter environment, please rerun this cell to show the HTML representation or trust the notebook. <br />On GitHub, the HTML representation is unable to render, please try loading this page with nbviewer.org.</b></div><div class=\"sk-container\" hidden><div class=\"sk-item\"><div class=\"sk-estimator sk-toggleable\"><input class=\"sk-toggleable__control sk-hidden--visually\" id=\"sk-estimator-id-1\" type=\"checkbox\" checked><label for=\"sk-estimator-id-1\" class=\"sk-toggleable__label sk-toggleable__label-arrow\">CountVectorizer</label><div class=\"sk-toggleable__content\"><pre>CountVectorizer(lowercase=False, strip_accents=&lt;built-in function ascii&gt;)</pre></div></div></div></div></div>"
      ],
      "text/plain": [
       "CountVectorizer(lowercase=False, strip_accents=<built-in function ascii>)"
      ]
     },
     "execution_count": 60,
     "metadata": {},
     "output_type": "execute_result"
    }
   ],
   "source": [
    "countVectorizer.fit(x_train_clean)"
   ]
  },
  {
   "cell_type": "code",
   "execution_count": 61,
   "id": "53615060-af34-48e7-9fd3-bb6a18495cb0",
   "metadata": {},
   "outputs": [],
   "source": [
    "test_countVectorizer = countVectorizer.fit(x_test_clean)"
   ]
  },
  {
   "cell_type": "code",
   "execution_count": 62,
   "id": "fcc46f62-1818-4439-a69e-bb7adc3b4748",
   "metadata": {},
   "outputs": [],
   "source": [
    "x_train_q1=countVectorizer.transform(x_train['q1_clean'])\n",
    "x_train_q2=countVectorizer.transform(x_train['q2_clean'])"
   ]
  },
  {
   "cell_type": "code",
   "execution_count": 63,
   "id": "78d58818-b6dc-4002-8283-e11b7de5dbe6",
   "metadata": {},
   "outputs": [],
   "source": [
    "x_test_q1=countVectorizer.transform(x_test['q1_clean'])\n",
    "x_test_q2=countVectorizer.transform(x_test['q2_clean'])"
   ]
  },
  {
   "cell_type": "code",
   "execution_count": 64,
   "id": "fba7514c-410e-4f88-bdfe-700d945c6648",
   "metadata": {},
   "outputs": [
    {
     "data": {
      "text/plain": [
       "array([[0, 0, 0, ..., 0, 0, 0]])"
      ]
     },
     "execution_count": 64,
     "metadata": {},
     "output_type": "execute_result"
    }
   ],
   "source": [
    "x_train_q1[0].toarray()"
   ]
  },
  {
   "cell_type": "code",
   "execution_count": 65,
   "id": "75a1391a-b5e1-43d4-8eb5-a1eae54100c8",
   "metadata": {},
   "outputs": [
    {
     "data": {
      "text/plain": [
       "array([[0, 0, 0, ..., 0, 0, 0]])"
      ]
     },
     "execution_count": 65,
     "metadata": {},
     "output_type": "execute_result"
    }
   ],
   "source": [
    "x_train_q2[0].toarray()"
   ]
  },
  {
   "cell_type": "code",
   "execution_count": 66,
   "id": "efade581-f4fc-4f34-a9c6-6037d8f58765",
   "metadata": {},
   "outputs": [
    {
     "data": {
      "text/html": [
       "<div>\n",
       "<style scoped>\n",
       "    .dataframe tbody tr th:only-of-type {\n",
       "        vertical-align: middle;\n",
       "    }\n",
       "\n",
       "    .dataframe tbody tr th {\n",
       "        vertical-align: top;\n",
       "    }\n",
       "\n",
       "    .dataframe thead th {\n",
       "        text-align: right;\n",
       "    }\n",
       "</style>\n",
       "<table border=\"1\" class=\"dataframe\">\n",
       "  <thead>\n",
       "    <tr style=\"text-align: right;\">\n",
       "      <th></th>\n",
       "      <th>q1</th>\n",
       "    </tr>\n",
       "  </thead>\n",
       "  <tbody>\n",
       "    <tr>\n",
       "      <th>0</th>\n",
       "      <td>(0, 6086)\\t1\\n  (0, 8860)\\t1\\n  (0, 16446)\\t...</td>\n",
       "    </tr>\n",
       "    <tr>\n",
       "      <th>1</th>\n",
       "      <td>(0, 10969)\\t1\\n  (0, 24075)\\t1\\n  (0, 24924)...</td>\n",
       "    </tr>\n",
       "    <tr>\n",
       "      <th>2</th>\n",
       "      <td>(0, 29010)\\t1\\n  (0, 39951)\\t1\\n  (0, 45546)\\t1</td>\n",
       "    </tr>\n",
       "    <tr>\n",
       "      <th>3</th>\n",
       "      <td>(0, 6715)\\t1\\n  (0, 18175)\\t1\\n  (0, 34841)\\t1</td>\n",
       "    </tr>\n",
       "    <tr>\n",
       "      <th>4</th>\n",
       "      <td>(0, 13878)\\t1</td>\n",
       "    </tr>\n",
       "  </tbody>\n",
       "</table>\n",
       "</div>"
      ],
      "text/plain": [
       "                                                  q1\n",
       "0    (0, 6086)\\t1\\n  (0, 8860)\\t1\\n  (0, 16446)\\t...\n",
       "1    (0, 10969)\\t1\\n  (0, 24075)\\t1\\n  (0, 24924)...\n",
       "2    (0, 29010)\\t1\\n  (0, 39951)\\t1\\n  (0, 45546)\\t1\n",
       "3     (0, 6715)\\t1\\n  (0, 18175)\\t1\\n  (0, 34841)\\t1\n",
       "4                                      (0, 13878)\\t1"
      ]
     },
     "execution_count": 66,
     "metadata": {},
     "output_type": "execute_result"
    }
   ],
   "source": [
    "# Create separate dataframes of each vectorized column\n",
    "X1_count=pd.DataFrame(x_train_q1, columns=['q1'])\n",
    "X1_count.head()"
   ]
  },
  {
   "cell_type": "code",
   "execution_count": 67,
   "id": "c4ad7894-6ffe-4d43-af71-2adf6759aad0",
   "metadata": {},
   "outputs": [
    {
     "data": {
      "text/html": [
       "<div>\n",
       "<style scoped>\n",
       "    .dataframe tbody tr th:only-of-type {\n",
       "        vertical-align: middle;\n",
       "    }\n",
       "\n",
       "    .dataframe tbody tr th {\n",
       "        vertical-align: top;\n",
       "    }\n",
       "\n",
       "    .dataframe thead th {\n",
       "        text-align: right;\n",
       "    }\n",
       "</style>\n",
       "<table border=\"1\" class=\"dataframe\">\n",
       "  <thead>\n",
       "    <tr style=\"text-align: right;\">\n",
       "      <th></th>\n",
       "      <th>q2</th>\n",
       "    </tr>\n",
       "  </thead>\n",
       "  <tbody>\n",
       "    <tr>\n",
       "      <th>0</th>\n",
       "      <td>(0, 3874)\\t1\\n  (0, 6086)\\t1\\n  (0, 8860)\\t1...</td>\n",
       "    </tr>\n",
       "    <tr>\n",
       "      <th>1</th>\n",
       "      <td>(0, 23191)\\t1\\n  (0, 24273)\\t1\\n  (0, 24924)...</td>\n",
       "    </tr>\n",
       "    <tr>\n",
       "      <th>2</th>\n",
       "      <td>(0, 6002)\\t1\\n  (0, 11378)\\t1\\n  (0, 21332)\\...</td>\n",
       "    </tr>\n",
       "    <tr>\n",
       "      <th>3</th>\n",
       "      <td>(0, 6715)\\t1\\n  (0, 34841)\\t1</td>\n",
       "    </tr>\n",
       "    <tr>\n",
       "      <th>4</th>\n",
       "      <td>(0, 13878)\\t1\\n  (0, 23522)\\t1</td>\n",
       "    </tr>\n",
       "  </tbody>\n",
       "</table>\n",
       "</div>"
      ],
      "text/plain": [
       "                                                  q2\n",
       "0    (0, 3874)\\t1\\n  (0, 6086)\\t1\\n  (0, 8860)\\t1...\n",
       "1    (0, 23191)\\t1\\n  (0, 24273)\\t1\\n  (0, 24924)...\n",
       "2    (0, 6002)\\t1\\n  (0, 11378)\\t1\\n  (0, 21332)\\...\n",
       "3                      (0, 6715)\\t1\\n  (0, 34841)\\t1\n",
       "4                     (0, 13878)\\t1\\n  (0, 23522)\\t1"
      ]
     },
     "execution_count": 67,
     "metadata": {},
     "output_type": "execute_result"
    }
   ],
   "source": [
    "X2_count=pd.DataFrame(x_train_q2, columns=['q2'])\n",
    "X2_count.head()"
   ]
  },
  {
   "cell_type": "code",
   "execution_count": 68,
   "id": "4ac49671-63cb-4fe3-a437-e1f5c1c17424",
   "metadata": {},
   "outputs": [
    {
     "data": {
      "text/html": [
       "<div>\n",
       "<style scoped>\n",
       "    .dataframe tbody tr th:only-of-type {\n",
       "        vertical-align: middle;\n",
       "    }\n",
       "\n",
       "    .dataframe tbody tr th {\n",
       "        vertical-align: top;\n",
       "    }\n",
       "\n",
       "    .dataframe thead th {\n",
       "        text-align: right;\n",
       "    }\n",
       "</style>\n",
       "<table border=\"1\" class=\"dataframe\">\n",
       "  <thead>\n",
       "    <tr style=\"text-align: right;\">\n",
       "      <th></th>\n",
       "      <th>q1</th>\n",
       "      <th>q2</th>\n",
       "    </tr>\n",
       "  </thead>\n",
       "  <tbody>\n",
       "    <tr>\n",
       "      <th>0</th>\n",
       "      <td>(0, 6086)\\t1\\n  (0, 8860)\\t1\\n  (0, 16446)\\t...</td>\n",
       "      <td>(0, 3874)\\t1\\n  (0, 6086)\\t1\\n  (0, 8860)\\t1...</td>\n",
       "    </tr>\n",
       "    <tr>\n",
       "      <th>1</th>\n",
       "      <td>(0, 10969)\\t1\\n  (0, 24075)\\t1\\n  (0, 24924)...</td>\n",
       "      <td>(0, 23191)\\t1\\n  (0, 24273)\\t1\\n  (0, 24924)...</td>\n",
       "    </tr>\n",
       "    <tr>\n",
       "      <th>2</th>\n",
       "      <td>(0, 29010)\\t1\\n  (0, 39951)\\t1\\n  (0, 45546)\\t1</td>\n",
       "      <td>(0, 6002)\\t1\\n  (0, 11378)\\t1\\n  (0, 21332)\\...</td>\n",
       "    </tr>\n",
       "    <tr>\n",
       "      <th>3</th>\n",
       "      <td>(0, 6715)\\t1\\n  (0, 18175)\\t1\\n  (0, 34841)\\t1</td>\n",
       "      <td>(0, 6715)\\t1\\n  (0, 34841)\\t1</td>\n",
       "    </tr>\n",
       "    <tr>\n",
       "      <th>4</th>\n",
       "      <td>(0, 13878)\\t1</td>\n",
       "      <td>(0, 13878)\\t1\\n  (0, 23522)\\t1</td>\n",
       "    </tr>\n",
       "  </tbody>\n",
       "</table>\n",
       "</div>"
      ],
      "text/plain": [
       "                                                  q1  \\\n",
       "0    (0, 6086)\\t1\\n  (0, 8860)\\t1\\n  (0, 16446)\\t...   \n",
       "1    (0, 10969)\\t1\\n  (0, 24075)\\t1\\n  (0, 24924)...   \n",
       "2    (0, 29010)\\t1\\n  (0, 39951)\\t1\\n  (0, 45546)\\t1   \n",
       "3     (0, 6715)\\t1\\n  (0, 18175)\\t1\\n  (0, 34841)\\t1   \n",
       "4                                      (0, 13878)\\t1   \n",
       "\n",
       "                                                  q2  \n",
       "0    (0, 3874)\\t1\\n  (0, 6086)\\t1\\n  (0, 8860)\\t1...  \n",
       "1    (0, 23191)\\t1\\n  (0, 24273)\\t1\\n  (0, 24924)...  \n",
       "2    (0, 6002)\\t1\\n  (0, 11378)\\t1\\n  (0, 21332)\\...  \n",
       "3                      (0, 6715)\\t1\\n  (0, 34841)\\t1  \n",
       "4                     (0, 13878)\\t1\\n  (0, 23522)\\t1  "
      ]
     },
     "execution_count": 68,
     "metadata": {},
     "output_type": "execute_result"
    }
   ],
   "source": [
    "countvector_df=pd.concat([X1_count, X2_count], axis=1)\n",
    "countvector_df.head()"
   ]
  },
  {
   "cell_type": "code",
   "execution_count": 69,
   "id": "bc1317ab-5e8d-4ed7-8ddc-c1d5994b7928",
   "metadata": {},
   "outputs": [
    {
     "data": {
      "text/html": [
       "<div>\n",
       "<style scoped>\n",
       "    .dataframe tbody tr th:only-of-type {\n",
       "        vertical-align: middle;\n",
       "    }\n",
       "\n",
       "    .dataframe tbody tr th {\n",
       "        vertical-align: top;\n",
       "    }\n",
       "\n",
       "    .dataframe thead th {\n",
       "        text-align: right;\n",
       "    }\n",
       "</style>\n",
       "<table border=\"1\" class=\"dataframe\">\n",
       "  <thead>\n",
       "    <tr style=\"text-align: right;\">\n",
       "      <th></th>\n",
       "      <th>q1</th>\n",
       "      <th>q2</th>\n",
       "    </tr>\n",
       "  </thead>\n",
       "  <tbody>\n",
       "    <tr>\n",
       "      <th>0</th>\n",
       "      <td>(0, 4222)\\t1\\n  (0, 7862)\\t1\\n  (0, 10610)\\t...</td>\n",
       "      <td>(0, 4222)\\t1\\n  (0, 10610)\\t1\\n  (0, 12644)\\...</td>\n",
       "    </tr>\n",
       "    <tr>\n",
       "      <th>1</th>\n",
       "      <td>(0, 10508)\\t1\\n  (0, 21913)\\t1\\n  (0, 41691)...</td>\n",
       "      <td>(0, 3438)\\t1\\n  (0, 18941)\\t1\\n  (0, 33701)\\...</td>\n",
       "    </tr>\n",
       "    <tr>\n",
       "      <th>2</th>\n",
       "      <td>(0, 16008)\\t1\\n  (0, 44811)\\t1\\n  (0, 46510)...</td>\n",
       "      <td>(0, 16008)\\t1\\n  (0, 24919)\\t1\\n  (0, 31929)...</td>\n",
       "    </tr>\n",
       "    <tr>\n",
       "      <th>3</th>\n",
       "      <td>(0, 8791)\\t1\\n  (0, 16231)\\t1\\n  (0, 18225)\\...</td>\n",
       "      <td>(0, 16231)\\t1\\n  (0, 18225)\\t1\\n  (0, 24954)...</td>\n",
       "    </tr>\n",
       "    <tr>\n",
       "      <th>4</th>\n",
       "      <td>(0, 13060)\\t1\\n  (0, 15756)\\t1\\n  (0, 19210)...</td>\n",
       "      <td>(0, 3199)\\t1\\n  (0, 3576)\\t1\\n  (0, 8453)\\t1...</td>\n",
       "    </tr>\n",
       "  </tbody>\n",
       "</table>\n",
       "</div>"
      ],
      "text/plain": [
       "                                                  q1  \\\n",
       "0    (0, 4222)\\t1\\n  (0, 7862)\\t1\\n  (0, 10610)\\t...   \n",
       "1    (0, 10508)\\t1\\n  (0, 21913)\\t1\\n  (0, 41691)...   \n",
       "2    (0, 16008)\\t1\\n  (0, 44811)\\t1\\n  (0, 46510)...   \n",
       "3    (0, 8791)\\t1\\n  (0, 16231)\\t1\\n  (0, 18225)\\...   \n",
       "4    (0, 13060)\\t1\\n  (0, 15756)\\t1\\n  (0, 19210)...   \n",
       "\n",
       "                                                  q2  \n",
       "0    (0, 4222)\\t1\\n  (0, 10610)\\t1\\n  (0, 12644)\\...  \n",
       "1    (0, 3438)\\t1\\n  (0, 18941)\\t1\\n  (0, 33701)\\...  \n",
       "2    (0, 16008)\\t1\\n  (0, 24919)\\t1\\n  (0, 31929)...  \n",
       "3    (0, 16231)\\t1\\n  (0, 18225)\\t1\\n  (0, 24954)...  \n",
       "4    (0, 3199)\\t1\\n  (0, 3576)\\t1\\n  (0, 8453)\\t1...  "
      ]
     },
     "execution_count": 69,
     "metadata": {},
     "output_type": "execute_result"
    }
   ],
   "source": [
    "X1_test_count=pd.DataFrame(x_test_q1, columns=['q1'])\n",
    "X2_test_count=pd.DataFrame(x_test_q2, columns=['q2'])\n",
    "test_countvector_df=pd.concat([X1_test_count, X2_test_count], axis=1)\n",
    "test_countvector_df.head()"
   ]
  },
  {
   "cell_type": "code",
   "execution_count": 70,
   "id": "d03546a4-db4c-4d3e-9f6f-0442f799741f",
   "metadata": {},
   "outputs": [],
   "source": [
    "# Iterate through each row of the dataframe to get all the cosine_similarities\n",
    "\n",
    "count_cosine=[]\n",
    "\n",
    "for row in range(len(countvector_df)):\n",
    "    count_cosine.append(cosine_similarity(countvector_df['q1'][row], countvector_df['q2'][row]))"
   ]
  },
  {
   "cell_type": "code",
   "execution_count": 71,
   "id": "5e76f78d-f9ac-4c7c-a44c-f91d8cf2913c",
   "metadata": {},
   "outputs": [],
   "source": [
    "test_count_cosine=[]\n",
    "\n",
    "for row in range(len(test_countvector_df)):\n",
    "    test_count_cosine.append(cosine_similarity(test_countvector_df['q1'][row], test_countvector_df['q2'][row]))"
   ]
  },
  {
   "cell_type": "code",
   "execution_count": 72,
   "id": "df18a9b9-0559-40ee-a19a-e19122337a32",
   "metadata": {},
   "outputs": [],
   "source": [
    "# Reshape list in order to convert to DataFrame\n",
    "count_cosine1=np.reshape(count_cosine, (283000,1))"
   ]
  },
  {
   "cell_type": "code",
   "execution_count": 73,
   "id": "4a924f45-bc2a-41be-a826-32b27ff09978",
   "metadata": {},
   "outputs": [],
   "source": [
    "test_count_cosine1=np.reshape(test_count_cosine, (121287,1))"
   ]
  },
  {
   "cell_type": "code",
   "execution_count": 74,
   "id": "2a38c74c-ee9a-42fe-9ea4-a363ab2a7f43",
   "metadata": {},
   "outputs": [
    {
     "data": {
      "text/html": [
       "<div>\n",
       "<style scoped>\n",
       "    .dataframe tbody tr th:only-of-type {\n",
       "        vertical-align: middle;\n",
       "    }\n",
       "\n",
       "    .dataframe tbody tr th {\n",
       "        vertical-align: top;\n",
       "    }\n",
       "\n",
       "    .dataframe thead th {\n",
       "        text-align: right;\n",
       "    }\n",
       "</style>\n",
       "<table border=\"1\" class=\"dataframe\">\n",
       "  <thead>\n",
       "    <tr style=\"text-align: right;\">\n",
       "      <th></th>\n",
       "      <th>cosine_sim</th>\n",
       "    </tr>\n",
       "  </thead>\n",
       "  <tbody>\n",
       "    <tr>\n",
       "      <th>0</th>\n",
       "      <td>0.816497</td>\n",
       "    </tr>\n",
       "    <tr>\n",
       "      <th>1</th>\n",
       "      <td>0.365148</td>\n",
       "    </tr>\n",
       "    <tr>\n",
       "      <th>2</th>\n",
       "      <td>0.522233</td>\n",
       "    </tr>\n",
       "    <tr>\n",
       "      <th>3</th>\n",
       "      <td>0.816497</td>\n",
       "    </tr>\n",
       "    <tr>\n",
       "      <th>4</th>\n",
       "      <td>0.707107</td>\n",
       "    </tr>\n",
       "  </tbody>\n",
       "</table>\n",
       "</div>"
      ],
      "text/plain": [
       "   cosine_sim\n",
       "0    0.816497\n",
       "1    0.365148\n",
       "2    0.522233\n",
       "3    0.816497\n",
       "4    0.707107"
      ]
     },
     "execution_count": 74,
     "metadata": {},
     "output_type": "execute_result"
    }
   ],
   "source": [
    "# Create dataframe from list\n",
    "cosine_df = pd.DataFrame(count_cosine1, columns=['cosine_sim'])\n",
    "cosine_df.head()"
   ]
  },
  {
   "cell_type": "code",
   "execution_count": 75,
   "id": "8821ac45-5aef-4abb-90c6-dba8b04d4fb8",
   "metadata": {},
   "outputs": [],
   "source": [
    "test_cosine_df = pd.DataFrame(test_count_cosine1, columns=['cosine_sim'])"
   ]
  },
  {
   "cell_type": "code",
   "execution_count": 76,
   "id": "9a859925-0ea5-488d-82c9-6dfe65f7e0da",
   "metadata": {},
   "outputs": [
    {
     "data": {
      "text/html": [
       "<div>\n",
       "<style scoped>\n",
       "    .dataframe tbody tr th:only-of-type {\n",
       "        vertical-align: middle;\n",
       "    }\n",
       "\n",
       "    .dataframe tbody tr th {\n",
       "        vertical-align: top;\n",
       "    }\n",
       "\n",
       "    .dataframe thead th {\n",
       "        text-align: right;\n",
       "    }\n",
       "</style>\n",
       "<table border=\"1\" class=\"dataframe\">\n",
       "  <thead>\n",
       "    <tr style=\"text-align: right;\">\n",
       "      <th></th>\n",
       "      <th>q1</th>\n",
       "      <th>q2</th>\n",
       "      <th>cosine_sim</th>\n",
       "    </tr>\n",
       "  </thead>\n",
       "  <tbody>\n",
       "    <tr>\n",
       "      <th>0</th>\n",
       "      <td>(0, 6086)\\t1\\n  (0, 8860)\\t1\\n  (0, 16446)\\t...</td>\n",
       "      <td>(0, 3874)\\t1\\n  (0, 6086)\\t1\\n  (0, 8860)\\t1...</td>\n",
       "      <td>0.816497</td>\n",
       "    </tr>\n",
       "    <tr>\n",
       "      <th>1</th>\n",
       "      <td>(0, 10969)\\t1\\n  (0, 24075)\\t1\\n  (0, 24924)...</td>\n",
       "      <td>(0, 23191)\\t1\\n  (0, 24273)\\t1\\n  (0, 24924)...</td>\n",
       "      <td>0.365148</td>\n",
       "    </tr>\n",
       "    <tr>\n",
       "      <th>2</th>\n",
       "      <td>(0, 29010)\\t1\\n  (0, 39951)\\t1\\n  (0, 45546)\\t1</td>\n",
       "      <td>(0, 6002)\\t1\\n  (0, 11378)\\t1\\n  (0, 21332)\\...</td>\n",
       "      <td>0.522233</td>\n",
       "    </tr>\n",
       "    <tr>\n",
       "      <th>3</th>\n",
       "      <td>(0, 6715)\\t1\\n  (0, 18175)\\t1\\n  (0, 34841)\\t1</td>\n",
       "      <td>(0, 6715)\\t1\\n  (0, 34841)\\t1</td>\n",
       "      <td>0.816497</td>\n",
       "    </tr>\n",
       "    <tr>\n",
       "      <th>4</th>\n",
       "      <td>(0, 13878)\\t1</td>\n",
       "      <td>(0, 13878)\\t1\\n  (0, 23522)\\t1</td>\n",
       "      <td>0.707107</td>\n",
       "    </tr>\n",
       "  </tbody>\n",
       "</table>\n",
       "</div>"
      ],
      "text/plain": [
       "                                                  q1  \\\n",
       "0    (0, 6086)\\t1\\n  (0, 8860)\\t1\\n  (0, 16446)\\t...   \n",
       "1    (0, 10969)\\t1\\n  (0, 24075)\\t1\\n  (0, 24924)...   \n",
       "2    (0, 29010)\\t1\\n  (0, 39951)\\t1\\n  (0, 45546)\\t1   \n",
       "3     (0, 6715)\\t1\\n  (0, 18175)\\t1\\n  (0, 34841)\\t1   \n",
       "4                                      (0, 13878)\\t1   \n",
       "\n",
       "                                                  q2  cosine_sim  \n",
       "0    (0, 3874)\\t1\\n  (0, 6086)\\t1\\n  (0, 8860)\\t1...    0.816497  \n",
       "1    (0, 23191)\\t1\\n  (0, 24273)\\t1\\n  (0, 24924)...    0.365148  \n",
       "2    (0, 6002)\\t1\\n  (0, 11378)\\t1\\n  (0, 21332)\\...    0.522233  \n",
       "3                      (0, 6715)\\t1\\n  (0, 34841)\\t1    0.816497  \n",
       "4                     (0, 13878)\\t1\\n  (0, 23522)\\t1    0.707107  "
      ]
     },
     "execution_count": 76,
     "metadata": {},
     "output_type": "execute_result"
    }
   ],
   "source": [
    "final_countvector_df=pd.concat([countvector_df, cosine_df], axis=1)\n",
    "final_countvector_df.head()"
   ]
  },
  {
   "cell_type": "code",
   "execution_count": 77,
   "id": "0590cb3d-b439-4e2d-ad62-f38a37e0f310",
   "metadata": {},
   "outputs": [
    {
     "data": {
      "text/html": [
       "<div>\n",
       "<style scoped>\n",
       "    .dataframe tbody tr th:only-of-type {\n",
       "        vertical-align: middle;\n",
       "    }\n",
       "\n",
       "    .dataframe tbody tr th {\n",
       "        vertical-align: top;\n",
       "    }\n",
       "\n",
       "    .dataframe thead th {\n",
       "        text-align: right;\n",
       "    }\n",
       "</style>\n",
       "<table border=\"1\" class=\"dataframe\">\n",
       "  <thead>\n",
       "    <tr style=\"text-align: right;\">\n",
       "      <th></th>\n",
       "      <th>q1</th>\n",
       "      <th>q2</th>\n",
       "      <th>cosine_sim</th>\n",
       "    </tr>\n",
       "  </thead>\n",
       "  <tbody>\n",
       "    <tr>\n",
       "      <th>0</th>\n",
       "      <td>(0, 4222)\\t1\\n  (0, 7862)\\t1\\n  (0, 10610)\\t...</td>\n",
       "      <td>(0, 4222)\\t1\\n  (0, 10610)\\t1\\n  (0, 12644)\\...</td>\n",
       "      <td>0.833333</td>\n",
       "    </tr>\n",
       "    <tr>\n",
       "      <th>1</th>\n",
       "      <td>(0, 10508)\\t1\\n  (0, 21913)\\t1\\n  (0, 41691)...</td>\n",
       "      <td>(0, 3438)\\t1\\n  (0, 18941)\\t1\\n  (0, 33701)\\...</td>\n",
       "      <td>0.400000</td>\n",
       "    </tr>\n",
       "    <tr>\n",
       "      <th>2</th>\n",
       "      <td>(0, 16008)\\t1\\n  (0, 44811)\\t1\\n  (0, 46510)...</td>\n",
       "      <td>(0, 16008)\\t1\\n  (0, 24919)\\t1\\n  (0, 31929)...</td>\n",
       "      <td>0.500000</td>\n",
       "    </tr>\n",
       "    <tr>\n",
       "      <th>3</th>\n",
       "      <td>(0, 8791)\\t1\\n  (0, 16231)\\t1\\n  (0, 18225)\\...</td>\n",
       "      <td>(0, 16231)\\t1\\n  (0, 18225)\\t1\\n  (0, 24954)...</td>\n",
       "      <td>0.875000</td>\n",
       "    </tr>\n",
       "    <tr>\n",
       "      <th>4</th>\n",
       "      <td>(0, 13060)\\t1\\n  (0, 15756)\\t1\\n  (0, 19210)...</td>\n",
       "      <td>(0, 3199)\\t1\\n  (0, 3576)\\t1\\n  (0, 8453)\\t1...</td>\n",
       "      <td>0.301511</td>\n",
       "    </tr>\n",
       "  </tbody>\n",
       "</table>\n",
       "</div>"
      ],
      "text/plain": [
       "                                                  q1  \\\n",
       "0    (0, 4222)\\t1\\n  (0, 7862)\\t1\\n  (0, 10610)\\t...   \n",
       "1    (0, 10508)\\t1\\n  (0, 21913)\\t1\\n  (0, 41691)...   \n",
       "2    (0, 16008)\\t1\\n  (0, 44811)\\t1\\n  (0, 46510)...   \n",
       "3    (0, 8791)\\t1\\n  (0, 16231)\\t1\\n  (0, 18225)\\...   \n",
       "4    (0, 13060)\\t1\\n  (0, 15756)\\t1\\n  (0, 19210)...   \n",
       "\n",
       "                                                  q2  cosine_sim  \n",
       "0    (0, 4222)\\t1\\n  (0, 10610)\\t1\\n  (0, 12644)\\...    0.833333  \n",
       "1    (0, 3438)\\t1\\n  (0, 18941)\\t1\\n  (0, 33701)\\...    0.400000  \n",
       "2    (0, 16008)\\t1\\n  (0, 24919)\\t1\\n  (0, 31929)...    0.500000  \n",
       "3    (0, 16231)\\t1\\n  (0, 18225)\\t1\\n  (0, 24954)...    0.875000  \n",
       "4    (0, 3199)\\t1\\n  (0, 3576)\\t1\\n  (0, 8453)\\t1...    0.301511  "
      ]
     },
     "execution_count": 77,
     "metadata": {},
     "output_type": "execute_result"
    }
   ],
   "source": [
    "final_test_countvector_df=pd.concat([test_countvector_df, test_cosine_df], axis=1)\n",
    "final_test_countvector_df.head()"
   ]
  },
  {
   "cell_type": "markdown",
   "id": "0968e7f7-a883-40c6-9c09-1183a7373eee",
   "metadata": {},
   "source": [
    "### Number of same words in both questions"
   ]
  },
  {
   "cell_type": "code",
   "execution_count": 78,
   "id": "caf12684-a1df-40c3-abfb-cbaada8cad7e",
   "metadata": {},
   "outputs": [
    {
     "data": {
      "text/html": [
       "<div>\n",
       "<style scoped>\n",
       "    .dataframe tbody tr th:only-of-type {\n",
       "        vertical-align: middle;\n",
       "    }\n",
       "\n",
       "    .dataframe tbody tr th {\n",
       "        vertical-align: top;\n",
       "    }\n",
       "\n",
       "    .dataframe thead th {\n",
       "        text-align: right;\n",
       "    }\n",
       "</style>\n",
       "<table border=\"1\" class=\"dataframe\">\n",
       "  <thead>\n",
       "    <tr style=\"text-align: right;\">\n",
       "      <th></th>\n",
       "      <th>id</th>\n",
       "      <th>q1_clean</th>\n",
       "      <th>q2_clean</th>\n",
       "    </tr>\n",
       "  </thead>\n",
       "  <tbody>\n",
       "    <tr>\n",
       "      <th>271488</th>\n",
       "      <td>271488</td>\n",
       "      <td>pilot carri flight bag</td>\n",
       "      <td>thing airlin pilot carri flight bag</td>\n",
       "    </tr>\n",
       "    <tr>\n",
       "      <th>659</th>\n",
       "      <td>659</td>\n",
       "      <td>long raw cook sausag last refriger</td>\n",
       "      <td>long onigirlast left refriger kept longer</td>\n",
       "    </tr>\n",
       "    <tr>\n",
       "      <th>319232</th>\n",
       "      <td>319232</td>\n",
       "      <td>need video stream</td>\n",
       "      <td>infrastructur point view need creat websit let...</td>\n",
       "    </tr>\n",
       "    <tr>\n",
       "      <th>352892</th>\n",
       "      <td>352892</td>\n",
       "      <td>benefit got read</td>\n",
       "      <td>benefit read</td>\n",
       "    </tr>\n",
       "    <tr>\n",
       "      <th>147381</th>\n",
       "      <td>147381</td>\n",
       "      <td>drunk</td>\n",
       "      <td>know drunk</td>\n",
       "    </tr>\n",
       "    <tr>\n",
       "      <th>98345</th>\n",
       "      <td>98345</td>\n",
       "      <td>increas chanc becom accept caltech</td>\n",
       "      <td>one increas chanc get accept top undergradu sc...</td>\n",
       "    </tr>\n",
       "    <tr>\n",
       "      <th>109578</th>\n",
       "      <td>109578</td>\n",
       "      <td>is cure tinnitu</td>\n",
       "      <td>will cure tinnitu futur</td>\n",
       "    </tr>\n",
       "    <tr>\n",
       "      <th>218475</th>\n",
       "      <td>218475</td>\n",
       "      <td>lock symbol circl around iphon mean</td>\n",
       "      <td>lock symbol iphon 6 mean</td>\n",
       "    </tr>\n",
       "    <tr>\n",
       "      <th>70342</th>\n",
       "      <td>70342</td>\n",
       "      <td>gari johnson chanc win novemb</td>\n",
       "      <td>doe gari johnson stand chanc elect presid</td>\n",
       "    </tr>\n",
       "    <tr>\n",
       "      <th>364826</th>\n",
       "      <td>364826</td>\n",
       "      <td>capac 35 inch floppi disk</td>\n",
       "      <td>memori capac floppi disk</td>\n",
       "    </tr>\n",
       "  </tbody>\n",
       "</table>\n",
       "</div>"
      ],
      "text/plain": [
       "            id                             q1_clean  \\\n",
       "271488  271488               pilot carri flight bag   \n",
       "659        659   long raw cook sausag last refriger   \n",
       "319232  319232                    need video stream   \n",
       "352892  352892                     benefit got read   \n",
       "147381  147381                                drunk   \n",
       "98345    98345   increas chanc becom accept caltech   \n",
       "109578  109578                      is cure tinnitu   \n",
       "218475  218475  lock symbol circl around iphon mean   \n",
       "70342    70342        gari johnson chanc win novemb   \n",
       "364826  364826            capac 35 inch floppi disk   \n",
       "\n",
       "                                                 q2_clean  \n",
       "271488                thing airlin pilot carri flight bag  \n",
       "659             long onigirlast left refriger kept longer  \n",
       "319232  infrastructur point view need creat websit let...  \n",
       "352892                                       benefit read  \n",
       "147381                                         know drunk  \n",
       "98345   one increas chanc get accept top undergradu sc...  \n",
       "109578                            will cure tinnitu futur  \n",
       "218475                           lock symbol iphon 6 mean  \n",
       "70342           doe gari johnson stand chanc elect presid  \n",
       "364826                           memori capac floppi disk  "
      ]
     },
     "execution_count": 78,
     "metadata": {},
     "output_type": "execute_result"
    }
   ],
   "source": [
    "x_train.head(10)"
   ]
  },
  {
   "cell_type": "code",
   "execution_count": 79,
   "id": "f18dbdd4-447d-4462-bc44-3af4eebecdea",
   "metadata": {},
   "outputs": [],
   "source": [
    "X_train=x_train"
   ]
  },
  {
   "cell_type": "code",
   "execution_count": 80,
   "id": "b008c530-fb43-477a-ba43-02b267e5cd4a",
   "metadata": {},
   "outputs": [],
   "source": [
    "# Create column that splits words in each row and places in dictionary overlapping words\n",
    "X_train['word_overlap'] = [set(x[1].split()) & set(x[2].split()) for x in X_train.values]\n",
    "# Create column that counts the overlapping words from new column\n",
    "X_train['overlap_count'] = X_train['word_overlap'].str.len()"
   ]
  },
  {
   "cell_type": "code",
   "execution_count": 81,
   "id": "03e9bfcd-f2d1-44e3-a3e0-b1ef0337927f",
   "metadata": {},
   "outputs": [
    {
     "data": {
      "text/html": [
       "<div>\n",
       "<style scoped>\n",
       "    .dataframe tbody tr th:only-of-type {\n",
       "        vertical-align: middle;\n",
       "    }\n",
       "\n",
       "    .dataframe tbody tr th {\n",
       "        vertical-align: top;\n",
       "    }\n",
       "\n",
       "    .dataframe thead th {\n",
       "        text-align: right;\n",
       "    }\n",
       "</style>\n",
       "<table border=\"1\" class=\"dataframe\">\n",
       "  <thead>\n",
       "    <tr style=\"text-align: right;\">\n",
       "      <th></th>\n",
       "      <th>id</th>\n",
       "      <th>q1_clean</th>\n",
       "      <th>q2_clean</th>\n",
       "      <th>word_overlap</th>\n",
       "      <th>overlap_count</th>\n",
       "    </tr>\n",
       "  </thead>\n",
       "  <tbody>\n",
       "    <tr>\n",
       "      <th>271488</th>\n",
       "      <td>271488</td>\n",
       "      <td>pilot carri flight bag</td>\n",
       "      <td>thing airlin pilot carri flight bag</td>\n",
       "      <td>{carri, flight, bag, pilot}</td>\n",
       "      <td>4</td>\n",
       "    </tr>\n",
       "    <tr>\n",
       "      <th>659</th>\n",
       "      <td>659</td>\n",
       "      <td>long raw cook sausag last refriger</td>\n",
       "      <td>long onigirlast left refriger kept longer</td>\n",
       "      <td>{refriger, long}</td>\n",
       "      <td>2</td>\n",
       "    </tr>\n",
       "    <tr>\n",
       "      <th>319232</th>\n",
       "      <td>319232</td>\n",
       "      <td>need video stream</td>\n",
       "      <td>infrastructur point view need creat websit let...</td>\n",
       "      <td>{stream, video, need}</td>\n",
       "      <td>3</td>\n",
       "    </tr>\n",
       "    <tr>\n",
       "      <th>352892</th>\n",
       "      <td>352892</td>\n",
       "      <td>benefit got read</td>\n",
       "      <td>benefit read</td>\n",
       "      <td>{benefit, read}</td>\n",
       "      <td>2</td>\n",
       "    </tr>\n",
       "    <tr>\n",
       "      <th>147381</th>\n",
       "      <td>147381</td>\n",
       "      <td>drunk</td>\n",
       "      <td>know drunk</td>\n",
       "      <td>{drunk}</td>\n",
       "      <td>1</td>\n",
       "    </tr>\n",
       "    <tr>\n",
       "      <th>98345</th>\n",
       "      <td>98345</td>\n",
       "      <td>increas chanc becom accept caltech</td>\n",
       "      <td>one increas chanc get accept top undergradu sc...</td>\n",
       "      <td>{chanc, increas, accept}</td>\n",
       "      <td>3</td>\n",
       "    </tr>\n",
       "    <tr>\n",
       "      <th>109578</th>\n",
       "      <td>109578</td>\n",
       "      <td>is cure tinnitu</td>\n",
       "      <td>will cure tinnitu futur</td>\n",
       "      <td>{tinnitu, cure}</td>\n",
       "      <td>2</td>\n",
       "    </tr>\n",
       "    <tr>\n",
       "      <th>218475</th>\n",
       "      <td>218475</td>\n",
       "      <td>lock symbol circl around iphon mean</td>\n",
       "      <td>lock symbol iphon 6 mean</td>\n",
       "      <td>{lock, mean, symbol, iphon}</td>\n",
       "      <td>4</td>\n",
       "    </tr>\n",
       "    <tr>\n",
       "      <th>70342</th>\n",
       "      <td>70342</td>\n",
       "      <td>gari johnson chanc win novemb</td>\n",
       "      <td>doe gari johnson stand chanc elect presid</td>\n",
       "      <td>{chanc, johnson, gari}</td>\n",
       "      <td>3</td>\n",
       "    </tr>\n",
       "    <tr>\n",
       "      <th>364826</th>\n",
       "      <td>364826</td>\n",
       "      <td>capac 35 inch floppi disk</td>\n",
       "      <td>memori capac floppi disk</td>\n",
       "      <td>{disk, capac, floppi}</td>\n",
       "      <td>3</td>\n",
       "    </tr>\n",
       "  </tbody>\n",
       "</table>\n",
       "</div>"
      ],
      "text/plain": [
       "            id                             q1_clean  \\\n",
       "271488  271488               pilot carri flight bag   \n",
       "659        659   long raw cook sausag last refriger   \n",
       "319232  319232                    need video stream   \n",
       "352892  352892                     benefit got read   \n",
       "147381  147381                                drunk   \n",
       "98345    98345   increas chanc becom accept caltech   \n",
       "109578  109578                      is cure tinnitu   \n",
       "218475  218475  lock symbol circl around iphon mean   \n",
       "70342    70342        gari johnson chanc win novemb   \n",
       "364826  364826            capac 35 inch floppi disk   \n",
       "\n",
       "                                                 q2_clean  \\\n",
       "271488                thing airlin pilot carri flight bag   \n",
       "659             long onigirlast left refriger kept longer   \n",
       "319232  infrastructur point view need creat websit let...   \n",
       "352892                                       benefit read   \n",
       "147381                                         know drunk   \n",
       "98345   one increas chanc get accept top undergradu sc...   \n",
       "109578                            will cure tinnitu futur   \n",
       "218475                           lock symbol iphon 6 mean   \n",
       "70342           doe gari johnson stand chanc elect presid   \n",
       "364826                           memori capac floppi disk   \n",
       "\n",
       "                       word_overlap  overlap_count  \n",
       "271488  {carri, flight, bag, pilot}              4  \n",
       "659                {refriger, long}              2  \n",
       "319232        {stream, video, need}              3  \n",
       "352892              {benefit, read}              2  \n",
       "147381                      {drunk}              1  \n",
       "98345      {chanc, increas, accept}              3  \n",
       "109578              {tinnitu, cure}              2  \n",
       "218475  {lock, mean, symbol, iphon}              4  \n",
       "70342        {chanc, johnson, gari}              3  \n",
       "364826        {disk, capac, floppi}              3  "
      ]
     },
     "execution_count": 81,
     "metadata": {},
     "output_type": "execute_result"
    }
   ],
   "source": [
    "X_train.head(10)"
   ]
  },
  {
   "cell_type": "markdown",
   "id": "46cd7a4c-9f70-4d11-a1ab-37a88512bd01",
   "metadata": {},
   "source": [
    "## 5. Modelling"
   ]
  },
  {
   "cell_type": "markdown",
   "id": "814bafc6-3e50-40a9-9fc1-bd70d42b94c3",
   "metadata": {},
   "source": [
    "### Logistic Regression - Tfidf"
   ]
  },
  {
   "cell_type": "code",
   "execution_count": 82,
   "id": "83a05463-4331-4b7e-8107-ffa649cd88b6",
   "metadata": {},
   "outputs": [
    {
     "data": {
      "text/html": [
       "<div>\n",
       "<style scoped>\n",
       "    .dataframe tbody tr th:only-of-type {\n",
       "        vertical-align: middle;\n",
       "    }\n",
       "\n",
       "    .dataframe tbody tr th {\n",
       "        vertical-align: top;\n",
       "    }\n",
       "\n",
       "    .dataframe thead th {\n",
       "        text-align: right;\n",
       "    }\n",
       "</style>\n",
       "<table border=\"1\" class=\"dataframe\">\n",
       "  <thead>\n",
       "    <tr style=\"text-align: right;\">\n",
       "      <th></th>\n",
       "      <th>q1</th>\n",
       "      <th>q2</th>\n",
       "      <th>cosine_sim</th>\n",
       "    </tr>\n",
       "  </thead>\n",
       "  <tbody>\n",
       "    <tr>\n",
       "      <th>0</th>\n",
       "      <td>(0, 22580)\\t0.4986456030397158\\n  (0, 11513)...</td>\n",
       "      <td>(0, 29118)\\t0.26840811203114845\\n  (0, 22580...</td>\n",
       "      <td>0.860710</td>\n",
       "    </tr>\n",
       "    <tr>\n",
       "      <th>1</th>\n",
       "      <td>(0, 25706)\\t0.5289715566116155\\n  (0, 24508)...</td>\n",
       "      <td>(0, 24508)\\t0.5000324835474549\\n  (0, 17454)...</td>\n",
       "      <td>0.314811</td>\n",
       "    </tr>\n",
       "    <tr>\n",
       "      <th>2</th>\n",
       "      <td>(0, 31658)\\t0.538356518832852\\n  (0, 27919)\\...</td>\n",
       "      <td>(0, 32206)\\t0.25253979823040484\\n  (0, 31678...</td>\n",
       "      <td>0.488158</td>\n",
       "    </tr>\n",
       "    <tr>\n",
       "      <th>3</th>\n",
       "      <td>(0, 24291)\\t0.5346183715637537\\n  (0, 12725)...</td>\n",
       "      <td>(0, 24291)\\t0.6637123462685323\\n  (0, 4597)\\...</td>\n",
       "      <td>0.805497</td>\n",
       "    </tr>\n",
       "    <tr>\n",
       "      <th>4</th>\n",
       "      <td>(0, 9693)\\t1.0</td>\n",
       "      <td>(0, 16466)\\t0.47901587552842606\\n  (0, 9693)...</td>\n",
       "      <td>0.877806</td>\n",
       "    </tr>\n",
       "  </tbody>\n",
       "</table>\n",
       "</div>"
      ],
      "text/plain": [
       "                                                  q1  \\\n",
       "0    (0, 22580)\\t0.4986456030397158\\n  (0, 11513)...   \n",
       "1    (0, 25706)\\t0.5289715566116155\\n  (0, 24508)...   \n",
       "2    (0, 31658)\\t0.538356518832852\\n  (0, 27919)\\...   \n",
       "3    (0, 24291)\\t0.5346183715637537\\n  (0, 12725)...   \n",
       "4                                     (0, 9693)\\t1.0   \n",
       "\n",
       "                                                  q2  cosine_sim  \n",
       "0    (0, 29118)\\t0.26840811203114845\\n  (0, 22580...    0.860710  \n",
       "1    (0, 24508)\\t0.5000324835474549\\n  (0, 17454)...    0.314811  \n",
       "2    (0, 32206)\\t0.25253979823040484\\n  (0, 31678...    0.488158  \n",
       "3    (0, 24291)\\t0.6637123462685323\\n  (0, 4597)\\...    0.805497  \n",
       "4    (0, 16466)\\t0.47901587552842606\\n  (0, 9693)...    0.877806  "
      ]
     },
     "execution_count": 82,
     "metadata": {},
     "output_type": "execute_result"
    }
   ],
   "source": [
    "vectorized_final.head()"
   ]
  },
  {
   "cell_type": "code",
   "execution_count": 83,
   "id": "15b648b6-8535-46dc-8d7a-2de8fa474eab",
   "metadata": {},
   "outputs": [],
   "source": [
    "x_train_cosineSim = vectorized_final['cosine_sim']\n",
    "x_train_cosineSim = x_train_cosineSim.values.reshape(-1,1)"
   ]
  },
  {
   "cell_type": "code",
   "execution_count": 84,
   "id": "fae49052-168c-4209-8669-3354ea0433e5",
   "metadata": {},
   "outputs": [],
   "source": [
    "x_test_cosineSim = test_vectorized_final['cosine_sim']\n",
    "x_test_cosineSim = x_test_cosineSim.values.reshape(-1,1)"
   ]
  },
  {
   "cell_type": "code",
   "execution_count": 85,
   "id": "94a328a8-7507-42f4-8aa1-93dc7d31e563",
   "metadata": {},
   "outputs": [
    {
     "data": {
      "text/html": [
       "<style>#sk-container-id-2 {color: black;background-color: white;}#sk-container-id-2 pre{padding: 0;}#sk-container-id-2 div.sk-toggleable {background-color: white;}#sk-container-id-2 label.sk-toggleable__label {cursor: pointer;display: block;width: 100%;margin-bottom: 0;padding: 0.3em;box-sizing: border-box;text-align: center;}#sk-container-id-2 label.sk-toggleable__label-arrow:before {content: \"▸\";float: left;margin-right: 0.25em;color: #696969;}#sk-container-id-2 label.sk-toggleable__label-arrow:hover:before {color: black;}#sk-container-id-2 div.sk-estimator:hover label.sk-toggleable__label-arrow:before {color: black;}#sk-container-id-2 div.sk-toggleable__content {max-height: 0;max-width: 0;overflow: hidden;text-align: left;background-color: #f0f8ff;}#sk-container-id-2 div.sk-toggleable__content pre {margin: 0.2em;color: black;border-radius: 0.25em;background-color: #f0f8ff;}#sk-container-id-2 input.sk-toggleable__control:checked~div.sk-toggleable__content {max-height: 200px;max-width: 100%;overflow: auto;}#sk-container-id-2 input.sk-toggleable__control:checked~label.sk-toggleable__label-arrow:before {content: \"▾\";}#sk-container-id-2 div.sk-estimator input.sk-toggleable__control:checked~label.sk-toggleable__label {background-color: #d4ebff;}#sk-container-id-2 div.sk-label input.sk-toggleable__control:checked~label.sk-toggleable__label {background-color: #d4ebff;}#sk-container-id-2 input.sk-hidden--visually {border: 0;clip: rect(1px 1px 1px 1px);clip: rect(1px, 1px, 1px, 1px);height: 1px;margin: -1px;overflow: hidden;padding: 0;position: absolute;width: 1px;}#sk-container-id-2 div.sk-estimator {font-family: monospace;background-color: #f0f8ff;border: 1px dotted black;border-radius: 0.25em;box-sizing: border-box;margin-bottom: 0.5em;}#sk-container-id-2 div.sk-estimator:hover {background-color: #d4ebff;}#sk-container-id-2 div.sk-parallel-item::after {content: \"\";width: 100%;border-bottom: 1px solid gray;flex-grow: 1;}#sk-container-id-2 div.sk-label:hover label.sk-toggleable__label {background-color: #d4ebff;}#sk-container-id-2 div.sk-serial::before {content: \"\";position: absolute;border-left: 1px solid gray;box-sizing: border-box;top: 0;bottom: 0;left: 50%;z-index: 0;}#sk-container-id-2 div.sk-serial {display: flex;flex-direction: column;align-items: center;background-color: white;padding-right: 0.2em;padding-left: 0.2em;position: relative;}#sk-container-id-2 div.sk-item {position: relative;z-index: 1;}#sk-container-id-2 div.sk-parallel {display: flex;align-items: stretch;justify-content: center;background-color: white;position: relative;}#sk-container-id-2 div.sk-item::before, #sk-container-id-2 div.sk-parallel-item::before {content: \"\";position: absolute;border-left: 1px solid gray;box-sizing: border-box;top: 0;bottom: 0;left: 50%;z-index: -1;}#sk-container-id-2 div.sk-parallel-item {display: flex;flex-direction: column;z-index: 1;position: relative;background-color: white;}#sk-container-id-2 div.sk-parallel-item:first-child::after {align-self: flex-end;width: 50%;}#sk-container-id-2 div.sk-parallel-item:last-child::after {align-self: flex-start;width: 50%;}#sk-container-id-2 div.sk-parallel-item:only-child::after {width: 0;}#sk-container-id-2 div.sk-dashed-wrapped {border: 1px dashed gray;margin: 0 0.4em 0.5em 0.4em;box-sizing: border-box;padding-bottom: 0.4em;background-color: white;}#sk-container-id-2 div.sk-label label {font-family: monospace;font-weight: bold;display: inline-block;line-height: 1.2em;}#sk-container-id-2 div.sk-label-container {text-align: center;}#sk-container-id-2 div.sk-container {/* jupyter's `normalize.less` sets `[hidden] { display: none; }` but bootstrap.min.css set `[hidden] { display: none !important; }` so we also need the `!important` here to be able to override the default hidden behavior on the sphinx rendered scikit-learn.org. See: https://github.com/scikit-learn/scikit-learn/issues/21755 */display: inline-block !important;position: relative;}#sk-container-id-2 div.sk-text-repr-fallback {display: none;}</style><div id=\"sk-container-id-2\" class=\"sk-top-container\"><div class=\"sk-text-repr-fallback\"><pre>LogisticRegression()</pre><b>In a Jupyter environment, please rerun this cell to show the HTML representation or trust the notebook. <br />On GitHub, the HTML representation is unable to render, please try loading this page with nbviewer.org.</b></div><div class=\"sk-container\" hidden><div class=\"sk-item\"><div class=\"sk-estimator sk-toggleable\"><input class=\"sk-toggleable__control sk-hidden--visually\" id=\"sk-estimator-id-2\" type=\"checkbox\" checked><label for=\"sk-estimator-id-2\" class=\"sk-toggleable__label sk-toggleable__label-arrow\">LogisticRegression</label><div class=\"sk-toggleable__content\"><pre>LogisticRegression()</pre></div></div></div></div></div>"
      ],
      "text/plain": [
       "LogisticRegression()"
      ]
     },
     "execution_count": 85,
     "metadata": {},
     "output_type": "execute_result"
    }
   ],
   "source": [
    "logmodel = LogisticRegression()\n",
    "logmodel.fit(x_train_cosineSim, y_train)"
   ]
  },
  {
   "cell_type": "code",
   "execution_count": 86,
   "id": "40422a96-e388-4261-8abc-0ef70801099e",
   "metadata": {},
   "outputs": [
    {
     "name": "stdout",
     "output_type": "stream",
     "text": [
      "Accuracy: 0.665058909858435\n"
     ]
    }
   ],
   "source": [
    "# Score the model\n",
    "score = logmodel.score(x_test_cosineSim, y_test)\n",
    "\n",
    "print(\"Accuracy:\", score)"
   ]
  },
  {
   "cell_type": "markdown",
   "id": "074836d6-0648-46fa-a188-baebd7027c52",
   "metadata": {},
   "source": [
    "### XGBoost - Tfidf"
   ]
  },
  {
   "cell_type": "code",
   "execution_count": 87,
   "id": "0e748018-8068-4f31-a3a1-03c6967663eb",
   "metadata": {},
   "outputs": [
    {
     "data": {
      "text/html": [
       "<style>#sk-container-id-3 {color: black;background-color: white;}#sk-container-id-3 pre{padding: 0;}#sk-container-id-3 div.sk-toggleable {background-color: white;}#sk-container-id-3 label.sk-toggleable__label {cursor: pointer;display: block;width: 100%;margin-bottom: 0;padding: 0.3em;box-sizing: border-box;text-align: center;}#sk-container-id-3 label.sk-toggleable__label-arrow:before {content: \"▸\";float: left;margin-right: 0.25em;color: #696969;}#sk-container-id-3 label.sk-toggleable__label-arrow:hover:before {color: black;}#sk-container-id-3 div.sk-estimator:hover label.sk-toggleable__label-arrow:before {color: black;}#sk-container-id-3 div.sk-toggleable__content {max-height: 0;max-width: 0;overflow: hidden;text-align: left;background-color: #f0f8ff;}#sk-container-id-3 div.sk-toggleable__content pre {margin: 0.2em;color: black;border-radius: 0.25em;background-color: #f0f8ff;}#sk-container-id-3 input.sk-toggleable__control:checked~div.sk-toggleable__content {max-height: 200px;max-width: 100%;overflow: auto;}#sk-container-id-3 input.sk-toggleable__control:checked~label.sk-toggleable__label-arrow:before {content: \"▾\";}#sk-container-id-3 div.sk-estimator input.sk-toggleable__control:checked~label.sk-toggleable__label {background-color: #d4ebff;}#sk-container-id-3 div.sk-label input.sk-toggleable__control:checked~label.sk-toggleable__label {background-color: #d4ebff;}#sk-container-id-3 input.sk-hidden--visually {border: 0;clip: rect(1px 1px 1px 1px);clip: rect(1px, 1px, 1px, 1px);height: 1px;margin: -1px;overflow: hidden;padding: 0;position: absolute;width: 1px;}#sk-container-id-3 div.sk-estimator {font-family: monospace;background-color: #f0f8ff;border: 1px dotted black;border-radius: 0.25em;box-sizing: border-box;margin-bottom: 0.5em;}#sk-container-id-3 div.sk-estimator:hover {background-color: #d4ebff;}#sk-container-id-3 div.sk-parallel-item::after {content: \"\";width: 100%;border-bottom: 1px solid gray;flex-grow: 1;}#sk-container-id-3 div.sk-label:hover label.sk-toggleable__label {background-color: #d4ebff;}#sk-container-id-3 div.sk-serial::before {content: \"\";position: absolute;border-left: 1px solid gray;box-sizing: border-box;top: 0;bottom: 0;left: 50%;z-index: 0;}#sk-container-id-3 div.sk-serial {display: flex;flex-direction: column;align-items: center;background-color: white;padding-right: 0.2em;padding-left: 0.2em;position: relative;}#sk-container-id-3 div.sk-item {position: relative;z-index: 1;}#sk-container-id-3 div.sk-parallel {display: flex;align-items: stretch;justify-content: center;background-color: white;position: relative;}#sk-container-id-3 div.sk-item::before, #sk-container-id-3 div.sk-parallel-item::before {content: \"\";position: absolute;border-left: 1px solid gray;box-sizing: border-box;top: 0;bottom: 0;left: 50%;z-index: -1;}#sk-container-id-3 div.sk-parallel-item {display: flex;flex-direction: column;z-index: 1;position: relative;background-color: white;}#sk-container-id-3 div.sk-parallel-item:first-child::after {align-self: flex-end;width: 50%;}#sk-container-id-3 div.sk-parallel-item:last-child::after {align-self: flex-start;width: 50%;}#sk-container-id-3 div.sk-parallel-item:only-child::after {width: 0;}#sk-container-id-3 div.sk-dashed-wrapped {border: 1px dashed gray;margin: 0 0.4em 0.5em 0.4em;box-sizing: border-box;padding-bottom: 0.4em;background-color: white;}#sk-container-id-3 div.sk-label label {font-family: monospace;font-weight: bold;display: inline-block;line-height: 1.2em;}#sk-container-id-3 div.sk-label-container {text-align: center;}#sk-container-id-3 div.sk-container {/* jupyter's `normalize.less` sets `[hidden] { display: none; }` but bootstrap.min.css set `[hidden] { display: none !important; }` so we also need the `!important` here to be able to override the default hidden behavior on the sphinx rendered scikit-learn.org. See: https://github.com/scikit-learn/scikit-learn/issues/21755 */display: inline-block !important;position: relative;}#sk-container-id-3 div.sk-text-repr-fallback {display: none;}</style><div id=\"sk-container-id-3\" class=\"sk-top-container\"><div class=\"sk-text-repr-fallback\"><pre>GradientBoostingClassifier()</pre><b>In a Jupyter environment, please rerun this cell to show the HTML representation or trust the notebook. <br />On GitHub, the HTML representation is unable to render, please try loading this page with nbviewer.org.</b></div><div class=\"sk-container\" hidden><div class=\"sk-item\"><div class=\"sk-estimator sk-toggleable\"><input class=\"sk-toggleable__control sk-hidden--visually\" id=\"sk-estimator-id-3\" type=\"checkbox\" checked><label for=\"sk-estimator-id-3\" class=\"sk-toggleable__label sk-toggleable__label-arrow\">GradientBoostingClassifier</label><div class=\"sk-toggleable__content\"><pre>GradientBoostingClassifier()</pre></div></div></div></div></div>"
      ],
      "text/plain": [
       "GradientBoostingClassifier()"
      ]
     },
     "execution_count": 87,
     "metadata": {},
     "output_type": "execute_result"
    }
   ],
   "source": [
    "xgbmodel = GradientBoostingClassifier()\n",
    "xgbmodel.fit(x_train_cosineSim, y_train)"
   ]
  },
  {
   "cell_type": "code",
   "execution_count": 88,
   "id": "65bde112-8a3c-4c07-b34e-670ffbddc56d",
   "metadata": {},
   "outputs": [
    {
     "name": "stdout",
     "output_type": "stream",
     "text": [
      "Accuracy: 0.676239003355677\n"
     ]
    }
   ],
   "source": [
    "# Score the model\n",
    "\n",
    "score = xgbmodel.score(x_test_cosineSim, y_test)\n",
    "\n",
    "print(\"Accuracy:\", score)"
   ]
  },
  {
   "cell_type": "markdown",
   "id": "558b996b-70f5-461c-adf6-c89c81b0387e",
   "metadata": {},
   "source": [
    "### Naive Bayes Classifier - Tfidf"
   ]
  },
  {
   "cell_type": "code",
   "execution_count": 89,
   "id": "0d4ceb4a-186b-48f1-b383-c5785312aee1",
   "metadata": {},
   "outputs": [
    {
     "data": {
      "text/html": [
       "<style>#sk-container-id-4 {color: black;background-color: white;}#sk-container-id-4 pre{padding: 0;}#sk-container-id-4 div.sk-toggleable {background-color: white;}#sk-container-id-4 label.sk-toggleable__label {cursor: pointer;display: block;width: 100%;margin-bottom: 0;padding: 0.3em;box-sizing: border-box;text-align: center;}#sk-container-id-4 label.sk-toggleable__label-arrow:before {content: \"▸\";float: left;margin-right: 0.25em;color: #696969;}#sk-container-id-4 label.sk-toggleable__label-arrow:hover:before {color: black;}#sk-container-id-4 div.sk-estimator:hover label.sk-toggleable__label-arrow:before {color: black;}#sk-container-id-4 div.sk-toggleable__content {max-height: 0;max-width: 0;overflow: hidden;text-align: left;background-color: #f0f8ff;}#sk-container-id-4 div.sk-toggleable__content pre {margin: 0.2em;color: black;border-radius: 0.25em;background-color: #f0f8ff;}#sk-container-id-4 input.sk-toggleable__control:checked~div.sk-toggleable__content {max-height: 200px;max-width: 100%;overflow: auto;}#sk-container-id-4 input.sk-toggleable__control:checked~label.sk-toggleable__label-arrow:before {content: \"▾\";}#sk-container-id-4 div.sk-estimator input.sk-toggleable__control:checked~label.sk-toggleable__label {background-color: #d4ebff;}#sk-container-id-4 div.sk-label input.sk-toggleable__control:checked~label.sk-toggleable__label {background-color: #d4ebff;}#sk-container-id-4 input.sk-hidden--visually {border: 0;clip: rect(1px 1px 1px 1px);clip: rect(1px, 1px, 1px, 1px);height: 1px;margin: -1px;overflow: hidden;padding: 0;position: absolute;width: 1px;}#sk-container-id-4 div.sk-estimator {font-family: monospace;background-color: #f0f8ff;border: 1px dotted black;border-radius: 0.25em;box-sizing: border-box;margin-bottom: 0.5em;}#sk-container-id-4 div.sk-estimator:hover {background-color: #d4ebff;}#sk-container-id-4 div.sk-parallel-item::after {content: \"\";width: 100%;border-bottom: 1px solid gray;flex-grow: 1;}#sk-container-id-4 div.sk-label:hover label.sk-toggleable__label {background-color: #d4ebff;}#sk-container-id-4 div.sk-serial::before {content: \"\";position: absolute;border-left: 1px solid gray;box-sizing: border-box;top: 0;bottom: 0;left: 50%;z-index: 0;}#sk-container-id-4 div.sk-serial {display: flex;flex-direction: column;align-items: center;background-color: white;padding-right: 0.2em;padding-left: 0.2em;position: relative;}#sk-container-id-4 div.sk-item {position: relative;z-index: 1;}#sk-container-id-4 div.sk-parallel {display: flex;align-items: stretch;justify-content: center;background-color: white;position: relative;}#sk-container-id-4 div.sk-item::before, #sk-container-id-4 div.sk-parallel-item::before {content: \"\";position: absolute;border-left: 1px solid gray;box-sizing: border-box;top: 0;bottom: 0;left: 50%;z-index: -1;}#sk-container-id-4 div.sk-parallel-item {display: flex;flex-direction: column;z-index: 1;position: relative;background-color: white;}#sk-container-id-4 div.sk-parallel-item:first-child::after {align-self: flex-end;width: 50%;}#sk-container-id-4 div.sk-parallel-item:last-child::after {align-self: flex-start;width: 50%;}#sk-container-id-4 div.sk-parallel-item:only-child::after {width: 0;}#sk-container-id-4 div.sk-dashed-wrapped {border: 1px dashed gray;margin: 0 0.4em 0.5em 0.4em;box-sizing: border-box;padding-bottom: 0.4em;background-color: white;}#sk-container-id-4 div.sk-label label {font-family: monospace;font-weight: bold;display: inline-block;line-height: 1.2em;}#sk-container-id-4 div.sk-label-container {text-align: center;}#sk-container-id-4 div.sk-container {/* jupyter's `normalize.less` sets `[hidden] { display: none; }` but bootstrap.min.css set `[hidden] { display: none !important; }` so we also need the `!important` here to be able to override the default hidden behavior on the sphinx rendered scikit-learn.org. See: https://github.com/scikit-learn/scikit-learn/issues/21755 */display: inline-block !important;position: relative;}#sk-container-id-4 div.sk-text-repr-fallback {display: none;}</style><div id=\"sk-container-id-4\" class=\"sk-top-container\"><div class=\"sk-text-repr-fallback\"><pre>BernoulliNB()</pre><b>In a Jupyter environment, please rerun this cell to show the HTML representation or trust the notebook. <br />On GitHub, the HTML representation is unable to render, please try loading this page with nbviewer.org.</b></div><div class=\"sk-container\" hidden><div class=\"sk-item\"><div class=\"sk-estimator sk-toggleable\"><input class=\"sk-toggleable__control sk-hidden--visually\" id=\"sk-estimator-id-4\" type=\"checkbox\" checked><label for=\"sk-estimator-id-4\" class=\"sk-toggleable__label sk-toggleable__label-arrow\">BernoulliNB</label><div class=\"sk-toggleable__content\"><pre>BernoulliNB()</pre></div></div></div></div></div>"
      ],
      "text/plain": [
       "BernoulliNB()"
      ]
     },
     "execution_count": 89,
     "metadata": {},
     "output_type": "execute_result"
    }
   ],
   "source": [
    "NBclassifier = naive_bayes.BernoulliNB()\n",
    "NBclassifier.fit(x_train_cosineSim, y_train)"
   ]
  },
  {
   "cell_type": "code",
   "execution_count": 90,
   "id": "c01c206a-a5a4-445f-bccc-78fd16c65b9f",
   "metadata": {},
   "outputs": [
    {
     "name": "stdout",
     "output_type": "stream",
     "text": [
      "Accuracy: 0.6308920164568338\n"
     ]
    }
   ],
   "source": [
    "score = NBclassifier.score(x_test_cosineSim, y_test)\n",
    "print(\"Accuracy:\", score)"
   ]
  },
  {
   "cell_type": "code",
   "execution_count": 91,
   "id": "b58759ed-b6a7-48f8-a6b9-afc792227061",
   "metadata": {},
   "outputs": [
    {
     "data": {
      "text/plain": [
       "0.5671192363460239"
      ]
     },
     "execution_count": 91,
     "metadata": {},
     "output_type": "execute_result"
    }
   ],
   "source": [
    "roc_auc_score(y_test, NBclassifier.predict_proba(x_test_cosineSim)[:,1])"
   ]
  },
  {
   "cell_type": "markdown",
   "id": "75b5d1fe-f7f2-4409-b32a-93f3c0a8577d",
   "metadata": {},
   "source": [
    "### Logistic Regression - Countvectorizer"
   ]
  },
  {
   "cell_type": "code",
   "execution_count": 92,
   "id": "feeed6df-b618-4943-8831-029b33429652",
   "metadata": {},
   "outputs": [
    {
     "data": {
      "text/html": [
       "<div>\n",
       "<style scoped>\n",
       "    .dataframe tbody tr th:only-of-type {\n",
       "        vertical-align: middle;\n",
       "    }\n",
       "\n",
       "    .dataframe tbody tr th {\n",
       "        vertical-align: top;\n",
       "    }\n",
       "\n",
       "    .dataframe thead th {\n",
       "        text-align: right;\n",
       "    }\n",
       "</style>\n",
       "<table border=\"1\" class=\"dataframe\">\n",
       "  <thead>\n",
       "    <tr style=\"text-align: right;\">\n",
       "      <th></th>\n",
       "      <th>q1</th>\n",
       "      <th>q2</th>\n",
       "      <th>cosine_sim</th>\n",
       "    </tr>\n",
       "  </thead>\n",
       "  <tbody>\n",
       "    <tr>\n",
       "      <th>0</th>\n",
       "      <td>(0, 6086)\\t1\\n  (0, 8860)\\t1\\n  (0, 16446)\\t...</td>\n",
       "      <td>(0, 3874)\\t1\\n  (0, 6086)\\t1\\n  (0, 8860)\\t1...</td>\n",
       "      <td>0.816497</td>\n",
       "    </tr>\n",
       "    <tr>\n",
       "      <th>1</th>\n",
       "      <td>(0, 10969)\\t1\\n  (0, 24075)\\t1\\n  (0, 24924)...</td>\n",
       "      <td>(0, 23191)\\t1\\n  (0, 24273)\\t1\\n  (0, 24924)...</td>\n",
       "      <td>0.365148</td>\n",
       "    </tr>\n",
       "    <tr>\n",
       "      <th>2</th>\n",
       "      <td>(0, 29010)\\t1\\n  (0, 39951)\\t1\\n  (0, 45546)\\t1</td>\n",
       "      <td>(0, 6002)\\t1\\n  (0, 11378)\\t1\\n  (0, 21332)\\...</td>\n",
       "      <td>0.522233</td>\n",
       "    </tr>\n",
       "    <tr>\n",
       "      <th>3</th>\n",
       "      <td>(0, 6715)\\t1\\n  (0, 18175)\\t1\\n  (0, 34841)\\t1</td>\n",
       "      <td>(0, 6715)\\t1\\n  (0, 34841)\\t1</td>\n",
       "      <td>0.816497</td>\n",
       "    </tr>\n",
       "    <tr>\n",
       "      <th>4</th>\n",
       "      <td>(0, 13878)\\t1</td>\n",
       "      <td>(0, 13878)\\t1\\n  (0, 23522)\\t1</td>\n",
       "      <td>0.707107</td>\n",
       "    </tr>\n",
       "  </tbody>\n",
       "</table>\n",
       "</div>"
      ],
      "text/plain": [
       "                                                  q1  \\\n",
       "0    (0, 6086)\\t1\\n  (0, 8860)\\t1\\n  (0, 16446)\\t...   \n",
       "1    (0, 10969)\\t1\\n  (0, 24075)\\t1\\n  (0, 24924)...   \n",
       "2    (0, 29010)\\t1\\n  (0, 39951)\\t1\\n  (0, 45546)\\t1   \n",
       "3     (0, 6715)\\t1\\n  (0, 18175)\\t1\\n  (0, 34841)\\t1   \n",
       "4                                      (0, 13878)\\t1   \n",
       "\n",
       "                                                  q2  cosine_sim  \n",
       "0    (0, 3874)\\t1\\n  (0, 6086)\\t1\\n  (0, 8860)\\t1...    0.816497  \n",
       "1    (0, 23191)\\t1\\n  (0, 24273)\\t1\\n  (0, 24924)...    0.365148  \n",
       "2    (0, 6002)\\t1\\n  (0, 11378)\\t1\\n  (0, 21332)\\...    0.522233  \n",
       "3                      (0, 6715)\\t1\\n  (0, 34841)\\t1    0.816497  \n",
       "4                     (0, 13878)\\t1\\n  (0, 23522)\\t1    0.707107  "
      ]
     },
     "execution_count": 92,
     "metadata": {},
     "output_type": "execute_result"
    }
   ],
   "source": [
    "final_countvector_df.head()"
   ]
  },
  {
   "cell_type": "code",
   "execution_count": 93,
   "id": "15b7e52d-7810-4eea-a638-08889882761b",
   "metadata": {},
   "outputs": [],
   "source": [
    "x_train_cosineSim_count = final_countvector_df['cosine_sim']\n",
    "x_train_cosineSim_count = x_train_cosineSim_count.values.reshape(-1,1)"
   ]
  },
  {
   "cell_type": "code",
   "execution_count": 94,
   "id": "2c5a0d8e-b900-4b20-8e33-9422ec3e39a9",
   "metadata": {},
   "outputs": [],
   "source": [
    "x_test_cosineSim_count = final_test_countvector_df['cosine_sim']\n",
    "x_test_cosineSim_count = x_test_cosineSim_count.values.reshape(-1,1)"
   ]
  },
  {
   "cell_type": "code",
   "execution_count": 95,
   "id": "723e7ac9-8d07-4f87-8dff-67192f938354",
   "metadata": {},
   "outputs": [
    {
     "name": "stdout",
     "output_type": "stream",
     "text": [
      "Accuracy: 0.6648692770041307\n"
     ]
    }
   ],
   "source": [
    "logmodelCount = LogisticRegression()\n",
    "logmodelCount.fit(x_train_cosineSim_count, y_train)\n",
    "score = logmodelCount.score(x_test_cosineSim_count, y_test)\n",
    "\n",
    "print(\"Accuracy:\", score)"
   ]
  },
  {
   "cell_type": "markdown",
   "id": "52ad72d0-c2bb-479b-96bc-a94285cdb7a9",
   "metadata": {},
   "source": [
    "### XGBoost - Countvectorizer"
   ]
  },
  {
   "cell_type": "code",
   "execution_count": 110,
   "id": "6a9fa723-be3f-4c59-911b-61169d933e1a",
   "metadata": {},
   "outputs": [
    {
     "data": {
      "text/html": [
       "<div>\n",
       "<style scoped>\n",
       "    .dataframe tbody tr th:only-of-type {\n",
       "        vertical-align: middle;\n",
       "    }\n",
       "\n",
       "    .dataframe tbody tr th {\n",
       "        vertical-align: top;\n",
       "    }\n",
       "\n",
       "    .dataframe thead th {\n",
       "        text-align: right;\n",
       "    }\n",
       "</style>\n",
       "<table border=\"1\" class=\"dataframe\">\n",
       "  <thead>\n",
       "    <tr style=\"text-align: right;\">\n",
       "      <th></th>\n",
       "      <th>id</th>\n",
       "      <th>q1_clean</th>\n",
       "      <th>q2_clean</th>\n",
       "    </tr>\n",
       "  </thead>\n",
       "  <tbody>\n",
       "    <tr>\n",
       "      <th>271488</th>\n",
       "      <td>271488</td>\n",
       "      <td>pilot carri flight bag</td>\n",
       "      <td>thing airlin pilot carri flight bag</td>\n",
       "    </tr>\n",
       "    <tr>\n",
       "      <th>659</th>\n",
       "      <td>659</td>\n",
       "      <td>long raw cook sausag last refriger</td>\n",
       "      <td>long onigirlast left refriger kept longer</td>\n",
       "    </tr>\n",
       "    <tr>\n",
       "      <th>319232</th>\n",
       "      <td>319232</td>\n",
       "      <td>need video stream</td>\n",
       "      <td>infrastructur point view need creat websit let...</td>\n",
       "    </tr>\n",
       "    <tr>\n",
       "      <th>352892</th>\n",
       "      <td>352892</td>\n",
       "      <td>benefit got read</td>\n",
       "      <td>benefit read</td>\n",
       "    </tr>\n",
       "    <tr>\n",
       "      <th>147381</th>\n",
       "      <td>147381</td>\n",
       "      <td>drunk</td>\n",
       "      <td>know drunk</td>\n",
       "    </tr>\n",
       "  </tbody>\n",
       "</table>\n",
       "</div>"
      ],
      "text/plain": [
       "            id                            q1_clean  \\\n",
       "271488  271488              pilot carri flight bag   \n",
       "659        659  long raw cook sausag last refriger   \n",
       "319232  319232                   need video stream   \n",
       "352892  352892                    benefit got read   \n",
       "147381  147381                               drunk   \n",
       "\n",
       "                                                 q2_clean  \n",
       "271488                thing airlin pilot carri flight bag  \n",
       "659             long onigirlast left refriger kept longer  \n",
       "319232  infrastructur point view need creat websit let...  \n",
       "352892                                       benefit read  \n",
       "147381                                         know drunk  "
      ]
     },
     "execution_count": 111,
     "metadata": {},
     "output_type": "execute_result"
    }
   ],
   "source": [
    "x_train1=x_train[['id', 'q1_clean', 'q2_clean']]\n",
    "x_train1.head()"
   ]
  },
  {
   "cell_type": "code",
   "execution_count": 109,
   "id": "6c6cb4aa-8825-45c4-b6a9-8d751fa4286f",
   "metadata": {},
   "outputs": [
    {
     "data": {
      "text/html": [
       "<div>\n",
       "<style scoped>\n",
       "    .dataframe tbody tr th:only-of-type {\n",
       "        vertical-align: middle;\n",
       "    }\n",
       "\n",
       "    .dataframe tbody tr th {\n",
       "        vertical-align: top;\n",
       "    }\n",
       "\n",
       "    .dataframe thead th {\n",
       "        text-align: right;\n",
       "    }\n",
       "</style>\n",
       "<table border=\"1\" class=\"dataframe\">\n",
       "  <thead>\n",
       "    <tr style=\"text-align: right;\">\n",
       "      <th></th>\n",
       "      <th>id</th>\n",
       "      <th>q1_clean</th>\n",
       "      <th>q2_clean</th>\n",
       "    </tr>\n",
       "  </thead>\n",
       "  <tbody>\n",
       "    <tr>\n",
       "      <th>397804</th>\n",
       "      <td>397804</td>\n",
       "      <td>process determin densiti aluminum brass compar</td>\n",
       "      <td>process determin densiti aluminum platinum compar</td>\n",
       "    </tr>\n",
       "    <tr>\n",
       "      <th>245946</th>\n",
       "      <td>245946</td>\n",
       "      <td>is third world war come</td>\n",
       "      <td>propheci world war 3 actual happen</td>\n",
       "    </tr>\n",
       "    <tr>\n",
       "      <th>395333</th>\n",
       "      <td>395333</td>\n",
       "      <td>whi would feel unwant</td>\n",
       "      <td>whi peopl feel lone</td>\n",
       "    </tr>\n",
       "    <tr>\n",
       "      <th>282003</th>\n",
       "      <td>282003</td>\n",
       "      <td>univers cardin financi recruit new grad major ...</td>\n",
       "      <td>univers squar 1 financi recruit new grad major...</td>\n",
       "    </tr>\n",
       "    <tr>\n",
       "      <th>302866</th>\n",
       "      <td>302866</td>\n",
       "      <td>differ head voic falsetto</td>\n",
       "      <td>is impress adult man abl sing c5 chest voic wi...</td>\n",
       "    </tr>\n",
       "  </tbody>\n",
       "</table>\n",
       "</div>"
      ],
      "text/plain": [
       "            id                                           q1_clean  \\\n",
       "397804  397804     process determin densiti aluminum brass compar   \n",
       "245946  245946                            is third world war come   \n",
       "395333  395333                              whi would feel unwant   \n",
       "282003  282003  univers cardin financi recruit new grad major ...   \n",
       "302866  302866                          differ head voic falsetto   \n",
       "\n",
       "                                                 q2_clean  \n",
       "397804  process determin densiti aluminum platinum compar  \n",
       "245946                 propheci world war 3 actual happen  \n",
       "395333                                whi peopl feel lone  \n",
       "282003  univers squar 1 financi recruit new grad major...  \n",
       "302866  is impress adult man abl sing c5 chest voic wi...  "
      ]
     },
     "execution_count": 109,
     "metadata": {},
     "output_type": "execute_result"
    }
   ],
   "source": [
    "x_test.head()"
   ]
  },
  {
   "cell_type": "code",
   "execution_count": 113,
   "id": "dc1f2c01-992c-450c-b37f-54d42d34e99f",
   "metadata": {},
   "outputs": [
    {
     "data": {
      "text/html": [
       "<style>#sk-container-id-6 {color: black;background-color: white;}#sk-container-id-6 pre{padding: 0;}#sk-container-id-6 div.sk-toggleable {background-color: white;}#sk-container-id-6 label.sk-toggleable__label {cursor: pointer;display: block;width: 100%;margin-bottom: 0;padding: 0.3em;box-sizing: border-box;text-align: center;}#sk-container-id-6 label.sk-toggleable__label-arrow:before {content: \"▸\";float: left;margin-right: 0.25em;color: #696969;}#sk-container-id-6 label.sk-toggleable__label-arrow:hover:before {color: black;}#sk-container-id-6 div.sk-estimator:hover label.sk-toggleable__label-arrow:before {color: black;}#sk-container-id-6 div.sk-toggleable__content {max-height: 0;max-width: 0;overflow: hidden;text-align: left;background-color: #f0f8ff;}#sk-container-id-6 div.sk-toggleable__content pre {margin: 0.2em;color: black;border-radius: 0.25em;background-color: #f0f8ff;}#sk-container-id-6 input.sk-toggleable__control:checked~div.sk-toggleable__content {max-height: 200px;max-width: 100%;overflow: auto;}#sk-container-id-6 input.sk-toggleable__control:checked~label.sk-toggleable__label-arrow:before {content: \"▾\";}#sk-container-id-6 div.sk-estimator input.sk-toggleable__control:checked~label.sk-toggleable__label {background-color: #d4ebff;}#sk-container-id-6 div.sk-label input.sk-toggleable__control:checked~label.sk-toggleable__label {background-color: #d4ebff;}#sk-container-id-6 input.sk-hidden--visually {border: 0;clip: rect(1px 1px 1px 1px);clip: rect(1px, 1px, 1px, 1px);height: 1px;margin: -1px;overflow: hidden;padding: 0;position: absolute;width: 1px;}#sk-container-id-6 div.sk-estimator {font-family: monospace;background-color: #f0f8ff;border: 1px dotted black;border-radius: 0.25em;box-sizing: border-box;margin-bottom: 0.5em;}#sk-container-id-6 div.sk-estimator:hover {background-color: #d4ebff;}#sk-container-id-6 div.sk-parallel-item::after {content: \"\";width: 100%;border-bottom: 1px solid gray;flex-grow: 1;}#sk-container-id-6 div.sk-label:hover label.sk-toggleable__label {background-color: #d4ebff;}#sk-container-id-6 div.sk-serial::before {content: \"\";position: absolute;border-left: 1px solid gray;box-sizing: border-box;top: 0;bottom: 0;left: 50%;z-index: 0;}#sk-container-id-6 div.sk-serial {display: flex;flex-direction: column;align-items: center;background-color: white;padding-right: 0.2em;padding-left: 0.2em;position: relative;}#sk-container-id-6 div.sk-item {position: relative;z-index: 1;}#sk-container-id-6 div.sk-parallel {display: flex;align-items: stretch;justify-content: center;background-color: white;position: relative;}#sk-container-id-6 div.sk-item::before, #sk-container-id-6 div.sk-parallel-item::before {content: \"\";position: absolute;border-left: 1px solid gray;box-sizing: border-box;top: 0;bottom: 0;left: 50%;z-index: -1;}#sk-container-id-6 div.sk-parallel-item {display: flex;flex-direction: column;z-index: 1;position: relative;background-color: white;}#sk-container-id-6 div.sk-parallel-item:first-child::after {align-self: flex-end;width: 50%;}#sk-container-id-6 div.sk-parallel-item:last-child::after {align-self: flex-start;width: 50%;}#sk-container-id-6 div.sk-parallel-item:only-child::after {width: 0;}#sk-container-id-6 div.sk-dashed-wrapped {border: 1px dashed gray;margin: 0 0.4em 0.5em 0.4em;box-sizing: border-box;padding-bottom: 0.4em;background-color: white;}#sk-container-id-6 div.sk-label label {font-family: monospace;font-weight: bold;display: inline-block;line-height: 1.2em;}#sk-container-id-6 div.sk-label-container {text-align: center;}#sk-container-id-6 div.sk-container {/* jupyter's `normalize.less` sets `[hidden] { display: none; }` but bootstrap.min.css set `[hidden] { display: none !important; }` so we also need the `!important` here to be able to override the default hidden behavior on the sphinx rendered scikit-learn.org. See: https://github.com/scikit-learn/scikit-learn/issues/21755 */display: inline-block !important;position: relative;}#sk-container-id-6 div.sk-text-repr-fallback {display: none;}</style><div id=\"sk-container-id-6\" class=\"sk-top-container\"><div class=\"sk-text-repr-fallback\"><pre>RandomizedSearchCV(cv=5, estimator=XGBClassifier(random_state=42), n_jobs=-1,\n",
       "                   param_distributions={&#x27;learning_rate&#x27;: array([0.01, 0.12, 0.23, 0.34, 0.45, 0.56, 0.67, 0.78, 0.89, 1.  ]),\n",
       "                                        &#x27;max_depth&#x27;: array([ 1,  2,  3,  4,  5,  6,  7,  8,  9, 10, 11, 12, 13, 14, 15, 16, 17,\n",
       "       18, 19, 20, 21, 22, 23, 24, 25, 26, 27, 28, 29, 30, 31, 32]),\n",
       "                                        &#x27;n_estimators&#x27;: [1, 2, 4]})</pre><b>In a Jupyter environment, please rerun this cell to show the HTML representation or trust the notebook. <br />On GitHub, the HTML representation is unable to render, please try loading this page with nbviewer.org.</b></div><div class=\"sk-container\" hidden><div class=\"sk-item sk-dashed-wrapped\"><div class=\"sk-label-container\"><div class=\"sk-label sk-toggleable\"><input class=\"sk-toggleable__control sk-hidden--visually\" id=\"sk-estimator-id-8\" type=\"checkbox\" ><label for=\"sk-estimator-id-8\" class=\"sk-toggleable__label sk-toggleable__label-arrow\">RandomizedSearchCV</label><div class=\"sk-toggleable__content\"><pre>RandomizedSearchCV(cv=5, estimator=XGBClassifier(random_state=42), n_jobs=-1,\n",
       "                   param_distributions={&#x27;learning_rate&#x27;: array([0.01, 0.12, 0.23, 0.34, 0.45, 0.56, 0.67, 0.78, 0.89, 1.  ]),\n",
       "                                        &#x27;max_depth&#x27;: array([ 1,  2,  3,  4,  5,  6,  7,  8,  9, 10, 11, 12, 13, 14, 15, 16, 17,\n",
       "       18, 19, 20, 21, 22, 23, 24, 25, 26, 27, 28, 29, 30, 31, 32]),\n",
       "                                        &#x27;n_estimators&#x27;: [1, 2, 4]})</pre></div></div></div><div class=\"sk-parallel\"><div class=\"sk-parallel-item\"><div class=\"sk-item\"><div class=\"sk-label-container\"><div class=\"sk-label sk-toggleable\"><input class=\"sk-toggleable__control sk-hidden--visually\" id=\"sk-estimator-id-9\" type=\"checkbox\" ><label for=\"sk-estimator-id-9\" class=\"sk-toggleable__label sk-toggleable__label-arrow\">estimator: XGBClassifier</label><div class=\"sk-toggleable__content\"><pre>XGBClassifier(random_state=42)</pre></div></div></div><div class=\"sk-serial\"><div class=\"sk-item\"><div class=\"sk-estimator sk-toggleable\"><input class=\"sk-toggleable__control sk-hidden--visually\" id=\"sk-estimator-id-10\" type=\"checkbox\" ><label for=\"sk-estimator-id-10\" class=\"sk-toggleable__label sk-toggleable__label-arrow\">XGBClassifier</label><div class=\"sk-toggleable__content\"><pre>XGBClassifier(random_state=42)</pre></div></div></div></div></div></div></div></div></div></div>"
      ],
      "text/plain": [
       "RandomizedSearchCV(cv=5, estimator=XGBClassifier(random_state=42), n_jobs=-1,\n",
       "                   param_distributions={'learning_rate': array([0.01, 0.12, 0.23, 0.34, 0.45, 0.56, 0.67, 0.78, 0.89, 1.  ]),\n",
       "                                        'max_depth': array([ 1,  2,  3,  4,  5,  6,  7,  8,  9, 10, 11, 12, 13, 14, 15, 16, 17,\n",
       "       18, 19, 20, 21, 22, 23, 24, 25, 26, 27, 28, 29, 30, 31, 32]),\n",
       "                                        'n_estimators': [1, 2, 4]})"
      ]
     },
     "execution_count": 113,
     "metadata": {},
     "output_type": "execute_result"
    }
   ],
   "source": [
    "# Model tuning with 5-fold cross-validation\n",
    "from sklearn.model_selection import RandomizedSearchCV\n",
    "\n",
    "\n",
    "params_xgb = {'n_estimators' : [1, 2, 4], \n",
    "               'learning_rate' : np.linspace(.01, 1, 10, endpoint=True),\n",
    "               'max_depth' : np.linspace(1, 32, 32, endpoint=True, dtype=int)\n",
    "                 }\n",
    "cv_xgb = RandomizedSearchCV(xgb.XGBClassifier(objective='binary:logistic', random_state=42), \n",
    "                            param_distributions=params_xgb, cv=5, n_jobs=-1)\n",
    "\n",
    "# final_countvector contains all vectorized features for the training question-pairs\n",
    "cv_xgb.fit(x_train_cosineSim_count, y_train)"
   ]
  },
  {
   "cell_type": "code",
   "execution_count": 107,
   "id": "6c506d4e-1a95-4c92-857a-697567c0d654",
   "metadata": {},
   "outputs": [
    {
     "name": "stdout",
     "output_type": "stream",
     "text": [
      "Accuracy: 0.695985554923446\n"
     ]
    }
   ],
   "source": [
    "score = cv_xgb.score(x_test_cosineSim_count, y_test)\n",
    "\n",
    "print(\"Accuracy:\", score)"
   ]
  },
  {
   "cell_type": "code",
   "execution_count": 96,
   "id": "9b8b1c07-ba65-4c8e-b03a-9ca9f7641823",
   "metadata": {},
   "outputs": [
    {
     "name": "stdout",
     "output_type": "stream",
     "text": [
      "Accuracy: 0.6943942879286321\n"
     ]
    }
   ],
   "source": [
    "score = xgbmodel.score(x_test_cosineSim_count, y_test)\n",
    "\n",
    "print(\"Accuracy:\", score)"
   ]
  },
  {
   "cell_type": "markdown",
   "id": "0696ce69-8181-4980-b44d-2f7fad30c36c",
   "metadata": {},
   "source": [
    "### Naive Bayes - Countvectorizer"
   ]
  },
  {
   "cell_type": "code",
   "execution_count": 97,
   "id": "650aceec-1845-42b4-b805-500c833abc8f",
   "metadata": {},
   "outputs": [
    {
     "data": {
      "text/plain": [
       "0.5671192363460239"
      ]
     },
     "execution_count": 97,
     "metadata": {},
     "output_type": "execute_result"
    }
   ],
   "source": [
    "NBclassifier = naive_bayes.BernoulliNB()\n",
    "NBclassifier.fit(x_train_cosineSim_count, y_train)\n",
    "roc_auc_score(y_test, NBclassifier.predict_proba(x_test_cosineSim_count)[:,1])"
   ]
  },
  {
   "cell_type": "code",
   "execution_count": 98,
   "id": "1344165c-73f6-474a-8250-3d94090ccfb7",
   "metadata": {},
   "outputs": [
    {
     "name": "stdout",
     "output_type": "stream",
     "text": [
      "Accuracy: 0.6308920164568338\n"
     ]
    }
   ],
   "source": [
    "score = NBclassifier.score(x_test_cosineSim_count, y_test)\n",
    "print(\"Accuracy:\", score)"
   ]
  },
  {
   "cell_type": "markdown",
   "id": "cc1e0250-6cb7-4b9f-a722-abeeeb3759f2",
   "metadata": {
    "jp-MarkdownHeadingCollapsed": true,
    "tags": []
   },
   "source": [
    "### LSTM"
   ]
  },
  {
   "cell_type": "code",
   "execution_count": 99,
   "id": "afb7d18d-1312-43c1-805a-aa5007c47136",
   "metadata": {},
   "outputs": [
    {
     "data": {
      "text/html": [
       "<div>\n",
       "<style scoped>\n",
       "    .dataframe tbody tr th:only-of-type {\n",
       "        vertical-align: middle;\n",
       "    }\n",
       "\n",
       "    .dataframe tbody tr th {\n",
       "        vertical-align: top;\n",
       "    }\n",
       "\n",
       "    .dataframe thead th {\n",
       "        text-align: right;\n",
       "    }\n",
       "</style>\n",
       "<table border=\"1\" class=\"dataframe\">\n",
       "  <thead>\n",
       "    <tr style=\"text-align: right;\">\n",
       "      <th></th>\n",
       "      <th>q1</th>\n",
       "      <th>q2</th>\n",
       "      <th>cosine_sim</th>\n",
       "    </tr>\n",
       "  </thead>\n",
       "  <tbody>\n",
       "    <tr>\n",
       "      <th>0</th>\n",
       "      <td>(0, 6086)\\t1\\n  (0, 8860)\\t1\\n  (0, 16446)\\t...</td>\n",
       "      <td>(0, 3874)\\t1\\n  (0, 6086)\\t1\\n  (0, 8860)\\t1...</td>\n",
       "      <td>0.816497</td>\n",
       "    </tr>\n",
       "    <tr>\n",
       "      <th>1</th>\n",
       "      <td>(0, 10969)\\t1\\n  (0, 24075)\\t1\\n  (0, 24924)...</td>\n",
       "      <td>(0, 23191)\\t1\\n  (0, 24273)\\t1\\n  (0, 24924)...</td>\n",
       "      <td>0.365148</td>\n",
       "    </tr>\n",
       "    <tr>\n",
       "      <th>2</th>\n",
       "      <td>(0, 29010)\\t1\\n  (0, 39951)\\t1\\n  (0, 45546)\\t1</td>\n",
       "      <td>(0, 6002)\\t1\\n  (0, 11378)\\t1\\n  (0, 21332)\\...</td>\n",
       "      <td>0.522233</td>\n",
       "    </tr>\n",
       "    <tr>\n",
       "      <th>3</th>\n",
       "      <td>(0, 6715)\\t1\\n  (0, 18175)\\t1\\n  (0, 34841)\\t1</td>\n",
       "      <td>(0, 6715)\\t1\\n  (0, 34841)\\t1</td>\n",
       "      <td>0.816497</td>\n",
       "    </tr>\n",
       "    <tr>\n",
       "      <th>4</th>\n",
       "      <td>(0, 13878)\\t1</td>\n",
       "      <td>(0, 13878)\\t1\\n  (0, 23522)\\t1</td>\n",
       "      <td>0.707107</td>\n",
       "    </tr>\n",
       "  </tbody>\n",
       "</table>\n",
       "</div>"
      ],
      "text/plain": [
       "                                                  q1  \\\n",
       "0    (0, 6086)\\t1\\n  (0, 8860)\\t1\\n  (0, 16446)\\t...   \n",
       "1    (0, 10969)\\t1\\n  (0, 24075)\\t1\\n  (0, 24924)...   \n",
       "2    (0, 29010)\\t1\\n  (0, 39951)\\t1\\n  (0, 45546)\\t1   \n",
       "3     (0, 6715)\\t1\\n  (0, 18175)\\t1\\n  (0, 34841)\\t1   \n",
       "4                                      (0, 13878)\\t1   \n",
       "\n",
       "                                                  q2  cosine_sim  \n",
       "0    (0, 3874)\\t1\\n  (0, 6086)\\t1\\n  (0, 8860)\\t1...    0.816497  \n",
       "1    (0, 23191)\\t1\\n  (0, 24273)\\t1\\n  (0, 24924)...    0.365148  \n",
       "2    (0, 6002)\\t1\\n  (0, 11378)\\t1\\n  (0, 21332)\\...    0.522233  \n",
       "3                      (0, 6715)\\t1\\n  (0, 34841)\\t1    0.816497  \n",
       "4                     (0, 13878)\\t1\\n  (0, 23522)\\t1    0.707107  "
      ]
     },
     "execution_count": 99,
     "metadata": {},
     "output_type": "execute_result"
    }
   ],
   "source": [
    "final_countvector_df.head()"
   ]
  },
  {
   "cell_type": "code",
   "execution_count": 100,
   "id": "8198364c-7fbb-4670-bdad-440d826a587a",
   "metadata": {},
   "outputs": [
    {
     "data": {
      "text/plain": [
       "(283000, 1)"
      ]
     },
     "execution_count": 100,
     "metadata": {},
     "output_type": "execute_result"
    }
   ],
   "source": [
    "x_train_cosineSim_count.shape"
   ]
  },
  {
   "cell_type": "code",
   "execution_count": 101,
   "id": "356b13db-941b-44d9-ac69-716020e41680",
   "metadata": {},
   "outputs": [
    {
     "data": {
      "text/html": [
       "<div>\n",
       "<style scoped>\n",
       "    .dataframe tbody tr th:only-of-type {\n",
       "        vertical-align: middle;\n",
       "    }\n",
       "\n",
       "    .dataframe tbody tr th {\n",
       "        vertical-align: top;\n",
       "    }\n",
       "\n",
       "    .dataframe thead th {\n",
       "        text-align: right;\n",
       "    }\n",
       "</style>\n",
       "<table border=\"1\" class=\"dataframe\">\n",
       "  <thead>\n",
       "    <tr style=\"text-align: right;\">\n",
       "      <th></th>\n",
       "      <th>id</th>\n",
       "      <th>q1_clean</th>\n",
       "      <th>q2_clean</th>\n",
       "      <th>word_overlap</th>\n",
       "      <th>overlap_count</th>\n",
       "    </tr>\n",
       "  </thead>\n",
       "  <tbody>\n",
       "    <tr>\n",
       "      <th>271488</th>\n",
       "      <td>271488</td>\n",
       "      <td>pilot carri flight bag</td>\n",
       "      <td>thing airlin pilot carri flight bag</td>\n",
       "      <td>{carri, flight, bag, pilot}</td>\n",
       "      <td>4</td>\n",
       "    </tr>\n",
       "    <tr>\n",
       "      <th>659</th>\n",
       "      <td>659</td>\n",
       "      <td>long raw cook sausag last refriger</td>\n",
       "      <td>long onigirlast left refriger kept longer</td>\n",
       "      <td>{refriger, long}</td>\n",
       "      <td>2</td>\n",
       "    </tr>\n",
       "    <tr>\n",
       "      <th>319232</th>\n",
       "      <td>319232</td>\n",
       "      <td>need video stream</td>\n",
       "      <td>infrastructur point view need creat websit let...</td>\n",
       "      <td>{stream, video, need}</td>\n",
       "      <td>3</td>\n",
       "    </tr>\n",
       "    <tr>\n",
       "      <th>352892</th>\n",
       "      <td>352892</td>\n",
       "      <td>benefit got read</td>\n",
       "      <td>benefit read</td>\n",
       "      <td>{benefit, read}</td>\n",
       "      <td>2</td>\n",
       "    </tr>\n",
       "    <tr>\n",
       "      <th>147381</th>\n",
       "      <td>147381</td>\n",
       "      <td>drunk</td>\n",
       "      <td>know drunk</td>\n",
       "      <td>{drunk}</td>\n",
       "      <td>1</td>\n",
       "    </tr>\n",
       "  </tbody>\n",
       "</table>\n",
       "</div>"
      ],
      "text/plain": [
       "            id                            q1_clean  \\\n",
       "271488  271488              pilot carri flight bag   \n",
       "659        659  long raw cook sausag last refriger   \n",
       "319232  319232                   need video stream   \n",
       "352892  352892                    benefit got read   \n",
       "147381  147381                               drunk   \n",
       "\n",
       "                                                 q2_clean  \\\n",
       "271488                thing airlin pilot carri flight bag   \n",
       "659             long onigirlast left refriger kept longer   \n",
       "319232  infrastructur point view need creat websit let...   \n",
       "352892                                       benefit read   \n",
       "147381                                         know drunk   \n",
       "\n",
       "                       word_overlap  overlap_count  \n",
       "271488  {carri, flight, bag, pilot}              4  \n",
       "659                {refriger, long}              2  \n",
       "319232        {stream, video, need}              3  \n",
       "352892              {benefit, read}              2  \n",
       "147381                      {drunk}              1  "
      ]
     },
     "execution_count": 101,
     "metadata": {},
     "output_type": "execute_result"
    }
   ],
   "source": [
    "x_train.head()"
   ]
  },
  {
   "cell_type": "code",
   "execution_count": null,
   "id": "ca6ea341-6e6b-402e-b0d3-9fd0f36e4d85",
   "metadata": {},
   "outputs": [],
   "source": [
    "# Create column that splits words in each row and places in dictionary overlapping words\n",
    "X_train['q1_q2_clean'] = [(x[1].split()) + (x[2].split()) for x in x_train.values]"
   ]
  },
  {
   "cell_type": "code",
   "execution_count": null,
   "id": "de52b963-18b5-4d5d-b5bd-b156c0f6c60c",
   "metadata": {},
   "outputs": [],
   "source": [
    "X_test=x_test\n",
    "\n",
    "X_test['q1_q2_clean'] = [(x[1].split()) + (x[2].split()) for x in x_test.values]"
   ]
  },
  {
   "cell_type": "code",
   "execution_count": null,
   "id": "fc81bc6b-b57b-4832-aaa3-85632ce99ff0",
   "metadata": {},
   "outputs": [],
   "source": [
    "X_train.head()"
   ]
  },
  {
   "cell_type": "code",
   "execution_count": null,
   "id": "5ede959a-e990-495d-9e86-2f282681dcd2",
   "metadata": {},
   "outputs": [],
   "source": [
    "X_train['q1_q2_clean'] = X_train['q1_q2_clean'].apply(lambda x: ' '.join(x))"
   ]
  },
  {
   "cell_type": "code",
   "execution_count": null,
   "id": "415ca904-dbb6-4f9c-98af-40da9b9f4653",
   "metadata": {},
   "outputs": [],
   "source": [
    "X_test['q1_q2_clean'] = X_test['q1_q2_clean'].apply(lambda x: ' '.join(x))"
   ]
  },
  {
   "cell_type": "code",
   "execution_count": null,
   "id": "6ab788e2-731e-478d-add2-c314d484b466",
   "metadata": {},
   "outputs": [],
   "source": [
    "X_train.head()"
   ]
  },
  {
   "cell_type": "code",
   "execution_count": null,
   "id": "48fb09ef-93ba-40d6-84a5-6370661cd5bd",
   "metadata": {},
   "outputs": [],
   "source": [
    "X_test.head()"
   ]
  },
  {
   "cell_type": "code",
   "execution_count": null,
   "id": "0b04489a-c387-4a43-a0e2-4023fdd73fbd",
   "metadata": {},
   "outputs": [],
   "source": []
  }
 ],
 "metadata": {
  "kernelspec": {
   "display_name": "Python 3 (ipykernel)",
   "language": "python",
   "name": "python3"
  },
  "language_info": {
   "codemirror_mode": {
    "name": "ipython",
    "version": 3
   },
   "file_extension": ".py",
   "mimetype": "text/x-python",
   "name": "python",
   "nbconvert_exporter": "python",
   "pygments_lexer": "ipython3",
   "version": "3.9.12"
  }
 },
 "nbformat": 4,
 "nbformat_minor": 5
}
